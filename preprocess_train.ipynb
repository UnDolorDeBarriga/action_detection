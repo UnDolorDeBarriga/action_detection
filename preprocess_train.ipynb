{
 "cells": [
  {
   "cell_type": "markdown",
   "metadata": {},
   "source": [
    "# LIBS"
   ]
  },
  {
   "cell_type": "code",
   "execution_count": 16,
   "metadata": {},
   "outputs": [],
   "source": [
    "from sklearn.model_selection import train_test_split\n",
    "from tensorflow.keras.utils import to_categorical\n",
    "from tensorflow.keras.models import Sequential, load_model\n",
    "from tensorflow.keras.layers import LSTM, Dense, Input,Dropout\n",
    "from tensorflow.keras.callbacks import TensorBoard\n",
    "from tensorflow.keras.optimizers import Adam\n",
    "from tensorflow.keras.callbacks import EarlyStopping\n",
    "import os\n",
    "import numpy as np\n",
    "import csv\n",
    "import matplotlib.pyplot as plt"
   ]
  },
  {
   "cell_type": "markdown",
   "metadata": {},
   "source": [
    "# Data"
   ]
  },
  {
   "cell_type": "markdown",
   "metadata": {},
   "source": [
    "Parameters"
   ]
  },
  {
   "cell_type": "code",
   "execution_count": 17,
   "metadata": {},
   "outputs": [],
   "source": [
    "DATA_PATH = os.path.join('model/data')\n",
    "SEQUENCE_LENGTH = 25 # 25 frames per sequence    "
   ]
  },
  {
   "cell_type": "markdown",
   "metadata": {},
   "source": [
    "Load Data"
   ]
  },
  {
   "cell_type": "code",
   "execution_count": 18,
   "metadata": {},
   "outputs": [
    {
     "name": "stdout",
     "output_type": "stream",
     "text": [
      "[[1 0 0 0]\n",
      " [1 0 0 0]\n",
      " [1 0 0 0]\n",
      " [1 0 0 0]\n",
      " [1 0 0 0]\n",
      " [1 0 0 0]\n",
      " [1 0 0 0]\n",
      " [1 0 0 0]\n",
      " [1 0 0 0]\n",
      " [1 0 0 0]\n",
      " [1 0 0 0]\n",
      " [1 0 0 0]\n",
      " [1 0 0 0]\n",
      " [1 0 0 0]\n",
      " [1 0 0 0]\n",
      " [1 0 0 0]\n",
      " [1 0 0 0]\n",
      " [1 0 0 0]\n",
      " [1 0 0 0]\n",
      " [1 0 0 0]\n",
      " [1 0 0 0]\n",
      " [1 0 0 0]\n",
      " [1 0 0 0]\n",
      " [1 0 0 0]\n",
      " [1 0 0 0]\n",
      " [1 0 0 0]\n",
      " [1 0 0 0]\n",
      " [1 0 0 0]\n",
      " [1 0 0 0]\n",
      " [1 0 0 0]\n",
      " [0 1 0 0]\n",
      " [0 1 0 0]\n",
      " [0 1 0 0]\n",
      " [0 1 0 0]\n",
      " [0 1 0 0]\n",
      " [0 1 0 0]\n",
      " [0 1 0 0]\n",
      " [0 1 0 0]\n",
      " [0 1 0 0]\n",
      " [0 1 0 0]\n",
      " [0 1 0 0]\n",
      " [0 1 0 0]\n",
      " [0 1 0 0]\n",
      " [0 1 0 0]\n",
      " [0 1 0 0]\n",
      " [0 1 0 0]\n",
      " [0 1 0 0]\n",
      " [0 1 0 0]\n",
      " [0 1 0 0]\n",
      " [0 1 0 0]\n",
      " [0 1 0 0]\n",
      " [0 1 0 0]\n",
      " [0 1 0 0]\n",
      " [0 1 0 0]\n",
      " [0 1 0 0]\n",
      " [0 1 0 0]\n",
      " [0 1 0 0]\n",
      " [0 1 0 0]\n",
      " [0 1 0 0]\n",
      " [0 1 0 0]\n",
      " [0 0 1 0]\n",
      " [0 0 1 0]\n",
      " [0 0 1 0]\n",
      " [0 0 1 0]\n",
      " [0 0 1 0]\n",
      " [0 0 1 0]\n",
      " [0 0 1 0]\n",
      " [0 0 1 0]\n",
      " [0 0 1 0]\n",
      " [0 0 1 0]\n",
      " [0 0 1 0]\n",
      " [0 0 1 0]\n",
      " [0 0 1 0]\n",
      " [0 0 1 0]\n",
      " [0 0 1 0]\n",
      " [0 0 1 0]\n",
      " [0 0 1 0]\n",
      " [0 0 1 0]\n",
      " [0 0 1 0]\n",
      " [0 0 1 0]\n",
      " [0 0 1 0]\n",
      " [0 0 1 0]\n",
      " [0 0 1 0]\n",
      " [0 0 1 0]\n",
      " [0 0 1 0]\n",
      " [0 0 1 0]\n",
      " [0 0 1 0]\n",
      " [0 0 1 0]\n",
      " [0 0 1 0]\n",
      " [0 0 1 0]\n",
      " [0 0 0 1]\n",
      " [0 0 0 1]\n",
      " [0 0 0 1]\n",
      " [0 0 0 1]\n",
      " [0 0 0 1]\n",
      " [0 0 0 1]\n",
      " [0 0 0 1]\n",
      " [0 0 0 1]\n",
      " [0 0 0 1]\n",
      " [0 0 0 1]\n",
      " [0 0 0 1]\n",
      " [0 0 0 1]\n",
      " [0 0 0 1]\n",
      " [0 0 0 1]\n",
      " [0 0 0 1]\n",
      " [0 0 0 1]\n",
      " [0 0 0 1]\n",
      " [0 0 0 1]\n",
      " [0 0 0 1]\n",
      " [0 0 0 1]\n",
      " [0 0 0 1]\n",
      " [0 0 0 1]\n",
      " [0 0 0 1]\n",
      " [0 0 0 1]\n",
      " [0 0 0 1]\n",
      " [0 0 0 1]\n",
      " [0 0 0 1]\n",
      " [0 0 0 1]\n",
      " [0 0 0 1]\n",
      " [0 0 0 1]]\n",
      "X_train: (114, 25, 225), y_train: (114, 4)\n",
      "X_test: (6, 25, 225), y_test: (6, 4)\n",
      "(25, 225)\n"
     ]
    }
   ],
   "source": [
    "with open(\"model/custom_model_label.csv\", encoding='utf-8-sig') as f:\n",
    "            label_map = csv.reader(f)\n",
    "            label_map = {\n",
    "                row[0]: index for index, row in enumerate(label_map)\n",
    "            }\n",
    "            actions = list(label_map.keys())\n",
    "\n",
    "sequences, labels = [], []\n",
    "for action in actions:\n",
    "    for sequence in np.array(os.listdir(os.path.join(DATA_PATH, action))).astype(int):\n",
    "        window = []\n",
    "        for frame_num in range(SEQUENCE_LENGTH):\n",
    "            res = np.load(os.path.join(DATA_PATH, action, str(sequence), \"{}.npy\".format(frame_num)))\n",
    "            window.append(res)\n",
    "        sequences.append(window)\n",
    "        labels.append(label_map[action])\n",
    "\n",
    "X = np.array(sequences)\n",
    "y = to_categorical(labels).astype(int)\n",
    "print(y)\n",
    "X_train, X_test, y_train, y_test = train_test_split(X, y, test_size=0.05)\n",
    "\n",
    "print(f\"X_train: {X_train.shape}, y_train: {y_train.shape}\")\n",
    "print(f\"X_test: {X_test.shape}, y_test: {y_test.shape}\")\n",
    "print(X[1].shape)  # ti stampa la shape del primo esempio (dovrebbe essere (25, 126))\n"
   ]
  },
  {
   "cell_type": "markdown",
   "metadata": {},
   "source": [
    "Logs"
   ]
  },
  {
   "cell_type": "code",
   "execution_count": 19,
   "metadata": {},
   "outputs": [],
   "source": [
    "log_dir = os.path.join('Logs')\n",
    "tb_callback = TensorBoard(log_dir=log_dir)"
   ]
  },
  {
   "cell_type": "markdown",
   "metadata": {},
   "source": [
    "# MODEL"
   ]
  },
  {
   "cell_type": "markdown",
   "metadata": {},
   "source": [
    "Def Model"
   ]
  },
  {
   "cell_type": "code",
   "execution_count": 20,
   "metadata": {},
   "outputs": [],
   "source": [
    "model = Sequential()\n",
    "model.add(Input(shape=(X.shape[1:])))\n",
    "model.add(LSTM(64, return_sequences=True))\n",
    "model.add(LSTM(128, return_sequences=True))\n",
    "model.add(LSTM(64, return_sequences=False))\n",
    "model.add(Dropout(0.2)) \n",
    "model.add(Dense(64, activation='relu'))\n",
    "model.add(Dense(32, activation='relu'))\n",
    "model.add(Dense(len(actions), activation='softmax'))"
   ]
  },
  {
   "cell_type": "markdown",
   "metadata": {},
   "source": [
    "Compile Model"
   ]
  },
  {
   "cell_type": "code",
   "execution_count": 21,
   "metadata": {},
   "outputs": [],
   "source": [
    "optimizer = Adam(learning_rate=0.0001)\n",
    "early_stop = EarlyStopping(\n",
    "    monitor='val_loss',        # o 'val_categorical_accuracy'\n",
    "    patience=5,                # numero di epoche senza miglioramento prima di fermarsi\n",
    "    restore_best_weights=True # ripristina i pesi migliori\n",
    ")\n",
    "\n",
    "model.compile(optimizer=optimizer, loss='categorical_crossentropy', metrics=['categorical_accuracy'])"
   ]
  },
  {
   "cell_type": "markdown",
   "metadata": {},
   "source": [
    "Fit Model (Only When Re-Run the Model)"
   ]
  },
  {
   "cell_type": "code",
   "execution_count": 22,
   "metadata": {},
   "outputs": [
    {
     "name": "stdout",
     "output_type": "stream",
     "text": [
      "Epoch 1/500\n",
      "12/12 [==============================] - 6s 114ms/step - loss: 1.3839 - categorical_accuracy: 0.2637 - val_loss: 1.3664 - val_categorical_accuracy: 0.2174\n",
      "Epoch 2/500\n",
      "12/12 [==============================] - 0s 22ms/step - loss: 1.3443 - categorical_accuracy: 0.2967 - val_loss: 1.3377 - val_categorical_accuracy: 0.2174\n",
      "Epoch 3/500\n",
      "12/12 [==============================] - 0s 22ms/step - loss: 1.3143 - categorical_accuracy: 0.3736 - val_loss: 1.2941 - val_categorical_accuracy: 0.4783\n",
      "Epoch 4/500\n",
      "12/12 [==============================] - 0s 22ms/step - loss: 1.2686 - categorical_accuracy: 0.5055 - val_loss: 1.2494 - val_categorical_accuracy: 0.4783\n",
      "Epoch 5/500\n",
      "12/12 [==============================] - 0s 29ms/step - loss: 1.2183 - categorical_accuracy: 0.5495 - val_loss: 1.1850 - val_categorical_accuracy: 0.4783\n",
      "Epoch 6/500\n",
      "12/12 [==============================] - 0s 23ms/step - loss: 1.1524 - categorical_accuracy: 0.6264 - val_loss: 1.1135 - val_categorical_accuracy: 0.4783\n",
      "Epoch 7/500\n",
      "12/12 [==============================] - 0s 24ms/step - loss: 1.0696 - categorical_accuracy: 0.6593 - val_loss: 1.0333 - val_categorical_accuracy: 0.5217\n",
      "Epoch 8/500\n",
      "12/12 [==============================] - 0s 32ms/step - loss: 0.9884 - categorical_accuracy: 0.7033 - val_loss: 0.9642 - val_categorical_accuracy: 0.5652\n",
      "Epoch 9/500\n",
      "12/12 [==============================] - 0s 30ms/step - loss: 0.8828 - categorical_accuracy: 0.7363 - val_loss: 0.8987 - val_categorical_accuracy: 0.6087\n",
      "Epoch 10/500\n",
      "12/12 [==============================] - 0s 29ms/step - loss: 0.8175 - categorical_accuracy: 0.7473 - val_loss: 0.8138 - val_categorical_accuracy: 0.6087\n",
      "Epoch 11/500\n",
      "12/12 [==============================] - 0s 31ms/step - loss: 0.7173 - categorical_accuracy: 0.7582 - val_loss: 0.7661 - val_categorical_accuracy: 0.6087\n",
      "Epoch 12/500\n",
      "12/12 [==============================] - 0s 33ms/step - loss: 0.6505 - categorical_accuracy: 0.7802 - val_loss: 0.6957 - val_categorical_accuracy: 0.6087\n",
      "Epoch 13/500\n",
      "12/12 [==============================] - 0s 30ms/step - loss: 0.6013 - categorical_accuracy: 0.7582 - val_loss: 0.6432 - val_categorical_accuracy: 0.7826\n",
      "Epoch 14/500\n",
      "12/12 [==============================] - 0s 25ms/step - loss: 0.5559 - categorical_accuracy: 0.8242 - val_loss: 0.5869 - val_categorical_accuracy: 0.9130\n",
      "Epoch 15/500\n",
      "12/12 [==============================] - 0s 25ms/step - loss: 0.4688 - categorical_accuracy: 0.9121 - val_loss: 0.5617 - val_categorical_accuracy: 0.8261\n",
      "Epoch 16/500\n",
      "12/12 [==============================] - 0s 24ms/step - loss: 0.4305 - categorical_accuracy: 0.8901 - val_loss: 0.4736 - val_categorical_accuracy: 0.9130\n",
      "Epoch 17/500\n",
      "12/12 [==============================] - 0s 30ms/step - loss: 0.3933 - categorical_accuracy: 0.9121 - val_loss: 0.4169 - val_categorical_accuracy: 0.9565\n",
      "Epoch 18/500\n",
      "12/12 [==============================] - 0s 25ms/step - loss: 0.3314 - categorical_accuracy: 0.9451 - val_loss: 0.4052 - val_categorical_accuracy: 0.8696\n",
      "Epoch 19/500\n",
      "12/12 [==============================] - 0s 24ms/step - loss: 0.2926 - categorical_accuracy: 0.9560 - val_loss: 0.4037 - val_categorical_accuracy: 0.9130\n",
      "Epoch 20/500\n",
      "12/12 [==============================] - 0s 24ms/step - loss: 0.2327 - categorical_accuracy: 0.9670 - val_loss: 0.3320 - val_categorical_accuracy: 0.9565\n",
      "Epoch 21/500\n",
      "12/12 [==============================] - 0s 23ms/step - loss: 0.2776 - categorical_accuracy: 0.9231 - val_loss: 0.2957 - val_categorical_accuracy: 0.9565\n",
      "Epoch 22/500\n",
      "12/12 [==============================] - 0s 23ms/step - loss: 0.2317 - categorical_accuracy: 0.9231 - val_loss: 0.3985 - val_categorical_accuracy: 0.8696\n",
      "Epoch 23/500\n",
      "12/12 [==============================] - 0s 25ms/step - loss: 0.1924 - categorical_accuracy: 0.9780 - val_loss: 0.2840 - val_categorical_accuracy: 0.9565\n",
      "Epoch 24/500\n",
      "12/12 [==============================] - 0s 25ms/step - loss: 0.1572 - categorical_accuracy: 0.9780 - val_loss: 0.2907 - val_categorical_accuracy: 0.9565\n",
      "Epoch 25/500\n",
      "12/12 [==============================] - 0s 23ms/step - loss: 0.1599 - categorical_accuracy: 0.9780 - val_loss: 0.2842 - val_categorical_accuracy: 0.9565\n",
      "Epoch 26/500\n",
      "12/12 [==============================] - 0s 22ms/step - loss: 0.1384 - categorical_accuracy: 0.9780 - val_loss: 0.2798 - val_categorical_accuracy: 0.9565\n",
      "Epoch 27/500\n",
      "12/12 [==============================] - 0s 22ms/step - loss: 0.1254 - categorical_accuracy: 0.9780 - val_loss: 0.2808 - val_categorical_accuracy: 0.9565\n",
      "Epoch 28/500\n",
      "12/12 [==============================] - 0s 23ms/step - loss: 0.1153 - categorical_accuracy: 0.9780 - val_loss: 0.2792 - val_categorical_accuracy: 0.9565\n",
      "Epoch 29/500\n",
      "12/12 [==============================] - 0s 23ms/step - loss: 0.1074 - categorical_accuracy: 0.9780 - val_loss: 0.2784 - val_categorical_accuracy: 0.9565\n",
      "Epoch 30/500\n",
      "12/12 [==============================] - 0s 22ms/step - loss: 0.1098 - categorical_accuracy: 0.9780 - val_loss: 0.2742 - val_categorical_accuracy: 0.9565\n",
      "Epoch 31/500\n",
      "12/12 [==============================] - 0s 23ms/step - loss: 0.1123 - categorical_accuracy: 0.9780 - val_loss: 0.2734 - val_categorical_accuracy: 0.9565\n",
      "Epoch 32/500\n",
      "12/12 [==============================] - 0s 28ms/step - loss: 0.0924 - categorical_accuracy: 0.9780 - val_loss: 0.2755 - val_categorical_accuracy: 0.9565\n",
      "Epoch 33/500\n",
      "12/12 [==============================] - 0s 23ms/step - loss: 0.1157 - categorical_accuracy: 0.9780 - val_loss: 0.2801 - val_categorical_accuracy: 0.9565\n",
      "Epoch 34/500\n",
      "12/12 [==============================] - 0s 22ms/step - loss: 0.1014 - categorical_accuracy: 0.9780 - val_loss: 0.2749 - val_categorical_accuracy: 0.9565\n",
      "Epoch 35/500\n",
      "12/12 [==============================] - 0s 21ms/step - loss: 0.0926 - categorical_accuracy: 0.9780 - val_loss: 0.2740 - val_categorical_accuracy: 0.9565\n",
      "Epoch 36/500\n",
      "12/12 [==============================] - 0s 22ms/step - loss: 0.1043 - categorical_accuracy: 0.9780 - val_loss: 0.2727 - val_categorical_accuracy: 0.9565\n",
      "Epoch 37/500\n",
      "12/12 [==============================] - 0s 23ms/step - loss: 0.0807 - categorical_accuracy: 0.9780 - val_loss: 0.2716 - val_categorical_accuracy: 0.9565\n",
      "Epoch 38/500\n",
      "12/12 [==============================] - 0s 23ms/step - loss: 0.0981 - categorical_accuracy: 0.9780 - val_loss: 0.2668 - val_categorical_accuracy: 0.9565\n",
      "Epoch 39/500\n",
      "12/12 [==============================] - 0s 22ms/step - loss: 0.0904 - categorical_accuracy: 0.9780 - val_loss: 0.2743 - val_categorical_accuracy: 0.9565\n",
      "Epoch 40/500\n",
      "12/12 [==============================] - 0s 22ms/step - loss: 0.0845 - categorical_accuracy: 0.9780 - val_loss: 0.2796 - val_categorical_accuracy: 0.9565\n",
      "Epoch 41/500\n",
      "12/12 [==============================] - 0s 22ms/step - loss: 0.0752 - categorical_accuracy: 0.9780 - val_loss: 0.2681 - val_categorical_accuracy: 0.9565\n",
      "Epoch 42/500\n",
      "12/12 [==============================] - 0s 22ms/step - loss: 0.0649 - categorical_accuracy: 0.9890 - val_loss: 0.2681 - val_categorical_accuracy: 0.9565\n",
      "Epoch 43/500\n",
      "12/12 [==============================] - 0s 23ms/step - loss: 0.0852 - categorical_accuracy: 0.9780 - val_loss: 0.2763 - val_categorical_accuracy: 0.9565\n"
     ]
    }
   ],
   "source": [
    "history = model.fit(X_train, y_train, epochs=500, batch_size=8, validation_split=0.2, callbacks=[early_stop])"
   ]
  },
  {
   "cell_type": "markdown",
   "metadata": {},
   "source": [
    "Trainig graph"
   ]
  },
  {
   "cell_type": "code",
   "execution_count": 23,
   "metadata": {},
   "outputs": [
    {
     "data": {
      "image/png": "[encoded data removed]",
      "text/plain": [
       "<Figure size 640x480 with 1 Axes>"
      ]
     },
     "metadata": {},
     "output_type": "display_data"
    },
    {
     "data": {
      "image/png": "[encoded data removed]",
      "text/plain": [
       "<Figure size 640x480 with 1 Axes>"
      ]
     },
     "metadata": {},
     "output_type": "display_data"
    },
    {
     "name": "stdout",
     "output_type": "stream",
     "text": [
      "The best weights were obtained at the epoch 38 with val_loss = 0.2668\n"
     ]
    }
   ],
   "source": [
    "epochs = range(1, len(history.history['categorical_accuracy']) + 1)\n",
    "plt.plot(epochs,history.history['categorical_accuracy'], label='Training Accuracy')\n",
    "plt.plot(epochs,history.history['val_categorical_accuracy'], label='Validation Accuracy')\n",
    "plt.xlabel('Epoch')\n",
    "plt.ylabel('Accuracy')\n",
    "plt.legend()\n",
    "plt.grid(True)\n",
    "plt.show()\n",
    "\n",
    "plt.plot(epochs,history.history['loss'], label='Training Loss')\n",
    "plt.plot(epochs,history.history['val_loss'], label='Validation Loss')\n",
    "plt.xlabel('Epoch')\n",
    "plt.ylabel('Loss')\n",
    "plt.legend()\n",
    "plt.grid(True)\n",
    "plt.title('Loss')\n",
    "plt.show()\n",
    "\n",
    "\n",
    "val_losses = history.history['val_loss']\n",
    "best_epoch = np.argmin(val_losses)\n",
    "print(f\"The best weights were obtained at the epoch {best_epoch + 1} with val_loss = {val_losses[best_epoch]:.4f}\")"
   ]
  },
  {
   "cell_type": "markdown",
   "metadata": {},
   "source": [
    "Load Model"
   ]
  },
  {
   "cell_type": "code",
   "execution_count": 24,
   "metadata": {},
   "outputs": [],
   "source": [
    "# model = load_model('model/save_model.keras')"
   ]
  },
  {
   "cell_type": "markdown",
   "metadata": {},
   "source": [
    "Save Model"
   ]
  },
  {
   "cell_type": "code",
   "execution_count": 25,
   "metadata": {},
   "outputs": [],
   "source": [
    "model.save('model/save_model.keras')"
   ]
  },
  {
   "cell_type": "markdown",
   "metadata": {},
   "source": [
    "Sumary Model"
   ]
  },
  {
   "cell_type": "code",
   "execution_count": 26,
   "metadata": {},
   "outputs": [
    {
     "name": "stdout",
     "output_type": "stream",
     "text": [
      "Model: \"sequential_1\"\n",
      "_________________________________________________________________\n",
      " Layer (type)                Output Shape              Param #   \n",
      "=================================================================\n",
      " lstm_3 (LSTM)               (None, 25, 64)            74240     \n",
      "                                                                 \n",
      " lstm_4 (LSTM)               (None, 25, 128)           98816     \n",
      "                                                                 \n",
      " lstm_5 (LSTM)               (None, 64)                49408     \n",
      "                                                                 \n",
      " dropout_1 (Dropout)         (None, 64)                0         \n",
      "                                                                 \n",
      " dense_3 (Dense)             (None, 64)                4160      \n",
      "                                                                 \n",
      " dense_4 (Dense)             (None, 32)                2080      \n",
      "                                                                 \n",
      " dense_5 (Dense)             (None, 4)                 132       \n",
      "                                                                 \n",
      "=================================================================\n",
      "Total params: 228,836\n",
      "Trainable params: 228,836\n",
      "Non-trainable params: 0\n",
      "_________________________________________________________________\n"
     ]
    }
   ],
   "source": [
    "model.summary()"
   ]
  },
  {
   "cell_type": "markdown",
   "metadata": {},
   "source": [
    "# Evaluation"
   ]
  },
  {
   "cell_type": "code",
   "execution_count": 27,
   "metadata": {},
   "outputs": [],
   "source": [
    "from sklearn.metrics import multilabel_confusion_matrix, accuracy_score"
   ]
  },
  {
   "cell_type": "markdown",
   "metadata": {},
   "source": [
    "Test data"
   ]
  },
  {
   "cell_type": "code",
   "execution_count": 28,
   "metadata": {},
   "outputs": [
    {
     "name": "stdout",
     "output_type": "stream",
     "text": [
      "1/1 [==============================] - 1s 1s/step\n"
     ]
    }
   ],
   "source": [
    "yhat = model.predict(X_test)\n",
    "ytrue = np.argmax(y_test, axis=1).tolist()\n",
    "yhat = np.argmax(yhat, axis=1).tolist()"
   ]
  },
  {
   "cell_type": "markdown",
   "metadata": {},
   "source": [
    "Confusion Matrix"
   ]
  },
  {
   "cell_type": "code",
   "execution_count": 31,
   "metadata": {},
   "outputs": [
    {
     "data": {
      "text/plain": [
       "array([[[5, 0],\n",
       "        [0, 1]],\n",
       "\n",
       "       [[3, 0],\n",
       "        [0, 3]],\n",
       "\n",
       "       [[4, 0],\n",
       "        [0, 2]]], dtype=int64)"
      ]
     },
     "execution_count": 31,
     "metadata": {},
     "output_type": "execute_result"
    }
   ],
   "source": [
    "multilabel_confusion_matrix(ytrue, yhat)"
   ]
  },
  {
   "cell_type": "markdown",
   "metadata": {},
   "source": [
    "Accuracyt Score (1 is good, 0 bad)"
   ]
  },
  {
   "cell_type": "code",
   "execution_count": 32,
   "metadata": {},
   "outputs": [
    {
     "data": {
      "text/plain": [
       "1.0"
      ]
     },
     "execution_count": 32,
     "metadata": {},
     "output_type": "execute_result"
    }
   ],
   "source": [
    "accuracy_score(ytrue, yhat)"
   ]
  }
 ],
 "metadata": {
  "kernelspec": {
   "display_name": ".venv",
   "language": "python",
   "name": "python3"
  },
  "language_info": {
   "codemirror_mode": {
    "name": "ipython",
    "version": 3
   },
   "file_extension": ".py",
   "mimetype": "text/x-python",
   "name": "python",
   "nbconvert_exporter": "python",
   "pygments_lexer": "ipython3",
   "version": "3.8.5"
  }
 },
 "nbformat": 4,
 "nbformat_minor": 2
}
