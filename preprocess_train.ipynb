{
 "cells": [
  {
   "cell_type": "markdown",
   "metadata": {},
   "source": [
    "# LIBS"
   ]
  },
  {
   "cell_type": "code",
   "execution_count": 1,
   "metadata": {},
   "outputs": [],
   "source": [
    "from sklearn.model_selection import train_test_split\n",
    "from tensorflow.keras.utils import to_categorical\n",
    "from tensorflow.keras.models import Sequential, load_model\n",
    "from tensorflow.keras.layers import LSTM, Dense, Input\n",
    "from tensorflow.keras.callbacks import TensorBoard\n",
    "from tensorflow.keras.optimizers import Adam\n",
    "from tensorflow.keras.callbacks import EarlyStopping\n",
    "import os\n",
    "import numpy as np\n",
    "import csv\n",
    "import matplotlib.pyplot as plt"
   ]
  },
  {
   "cell_type": "markdown",
   "metadata": {},
   "source": [
    "# Data"
   ]
  },
  {
   "cell_type": "markdown",
   "metadata": {},
   "source": [
    "Parameters"
   ]
  },
  {
   "cell_type": "code",
   "execution_count": 2,
   "metadata": {},
   "outputs": [],
   "source": [
    "DATA_PATH = os.path.join('model/data')\n",
    "SEQUENCE_LENGTH = 25 # 25 frames per sequence    "
   ]
  },
  {
   "cell_type": "markdown",
   "metadata": {},
   "source": [
    "Load Data"
   ]
  },
  {
   "cell_type": "code",
   "execution_count": 3,
   "metadata": {},
   "outputs": [
    {
     "name": "stdout",
     "output_type": "stream",
     "text": [
      "[[1 0 0]\n",
      " [1 0 0]\n",
      " [1 0 0]\n",
      " [1 0 0]\n",
      " [1 0 0]\n",
      " [1 0 0]\n",
      " [1 0 0]\n",
      " [1 0 0]\n",
      " [1 0 0]\n",
      " [1 0 0]\n",
      " [1 0 0]\n",
      " [1 0 0]\n",
      " [1 0 0]\n",
      " [1 0 0]\n",
      " [1 0 0]\n",
      " [0 1 0]\n",
      " [0 1 0]\n",
      " [0 1 0]\n",
      " [0 1 0]\n",
      " [0 1 0]\n",
      " [0 1 0]\n",
      " [0 1 0]\n",
      " [0 1 0]\n",
      " [0 1 0]\n",
      " [0 1 0]\n",
      " [0 1 0]\n",
      " [0 1 0]\n",
      " [0 1 0]\n",
      " [0 1 0]\n",
      " [0 1 0]\n",
      " [0 0 1]\n",
      " [0 0 1]\n",
      " [0 0 1]\n",
      " [0 0 1]\n",
      " [0 0 1]\n",
      " [0 0 1]\n",
      " [0 0 1]\n",
      " [0 0 1]\n",
      " [0 0 1]\n",
      " [0 0 1]\n",
      " [0 0 1]\n",
      " [0 0 1]\n",
      " [0 0 1]\n",
      " [0 0 1]\n",
      " [0 0 1]]\n",
      "X_train: (42, 25, 225), y_train: (42, 3)\n",
      "X_test: (3, 25, 225), y_test: (3, 3)\n",
      "(25, 225)\n"
     ]
    }
   ],
   "source": [
    "with open(\"model/custom_model_label.csv\", encoding='utf-8-sig') as f:\n",
    "            label_map = csv.reader(f)\n",
    "            label_map = {\n",
    "                row[0]: index for index, row in enumerate(label_map)\n",
    "            }\n",
    "            actions = list(label_map.keys())\n",
    "\n",
    "sequences, labels = [], []\n",
    "for action in actions:\n",
    "    for sequence in np.array(os.listdir(os.path.join(DATA_PATH, action))).astype(int):\n",
    "        window = []\n",
    "        for frame_num in range(SEQUENCE_LENGTH):\n",
    "            res = np.load(os.path.join(DATA_PATH, action, str(sequence), \"{}.npy\".format(frame_num)))\n",
    "            window.append(res)\n",
    "        sequences.append(window)\n",
    "        labels.append(label_map[action])\n",
    "\n",
    "X = np.array(sequences)\n",
    "y = to_categorical(labels).astype(int)\n",
    "print(y)\n",
    "X_train, X_test, y_train, y_test = train_test_split(X, y, test_size=0.05)\n",
    "\n",
    "print(f\"X_train: {X_train.shape}, y_train: {y_train.shape}\")\n",
    "print(f\"X_test: {X_test.shape}, y_test: {y_test.shape}\")\n",
    "print(X[1].shape)  # ti stampa la shape del primo esempio (dovrebbe essere (25, 126))\n"
   ]
  },
  {
   "cell_type": "markdown",
   "metadata": {},
   "source": [
    "Logs"
   ]
  },
  {
   "cell_type": "code",
   "execution_count": 4,
   "metadata": {},
   "outputs": [],
   "source": [
    "log_dir = os.path.join('Logs')\n",
    "tb_callback = TensorBoard(log_dir=log_dir)"
   ]
  },
  {
   "cell_type": "markdown",
   "metadata": {},
   "source": [
    "# MODEL"
   ]
  },
  {
   "cell_type": "markdown",
   "metadata": {},
   "source": [
    "Def Model"
   ]
  },
  {
   "cell_type": "code",
   "execution_count": 5,
   "metadata": {},
   "outputs": [],
   "source": [
    "model = Sequential()\n",
    "model.add(Input(shape=(X.shape[1:])))\n",
    "model.add(LSTM(64, return_sequences=True))\n",
    "model.add(LSTM(128, return_sequences=True))\n",
    "model.add(LSTM(64, return_sequences=False))\n",
    "model.add(Dense(64, activation='relu'))\n",
    "model.add(Dense(32, activation='relu'))\n",
    "model.add(Dense(len(actions), activation='softmax'))"
   ]
  },
  {
   "cell_type": "markdown",
   "metadata": {},
   "source": [
    "Compile Model"
   ]
  },
  {
   "cell_type": "code",
   "execution_count": 6,
   "metadata": {},
   "outputs": [],
   "source": [
    "optimizer = Adam(learning_rate=0.0001)\n",
    "early_stop = EarlyStopping(\n",
    "    monitor='val_loss',        # o 'val_categorical_accuracy'\n",
    "    patience=5,                # numero di epoche senza miglioramento prima di fermarsi\n",
    "    restore_best_weights=True # ripristina i pesi migliori\n",
    ")\n",
    "\n",
    "model.compile(optimizer=optimizer, loss='categorical_crossentropy', metrics=['categorical_accuracy'])"
   ]
  },
  {
   "cell_type": "markdown",
   "metadata": {},
   "source": [
    "Fit Model (Only When Re-Run the Model)"
   ]
  },
  {
   "cell_type": "code",
   "execution_count": 7,
   "metadata": {},
   "outputs": [
    {
     "name": "stdout",
     "output_type": "stream",
     "text": [
      "Epoch 1/500\n",
      "6/6 [==============================] - 8s 234ms/step - loss: 1.0970 - categorical_accuracy: 0.4545 - val_loss: 1.0031 - val_categorical_accuracy: 0.8889\n",
      "Epoch 2/500\n",
      "6/6 [==============================] - 0s 36ms/step - loss: 1.0335 - categorical_accuracy: 0.7576 - val_loss: 0.9665 - val_categorical_accuracy: 1.0000\n",
      "Epoch 3/500\n",
      "6/6 [==============================] - 0s 26ms/step - loss: 0.9822 - categorical_accuracy: 0.7576 - val_loss: 0.9128 - val_categorical_accuracy: 1.0000\n",
      "Epoch 4/500\n",
      "6/6 [==============================] - 0s 20ms/step - loss: 0.9377 - categorical_accuracy: 0.7576 - val_loss: 0.8577 - val_categorical_accuracy: 1.0000\n",
      "Epoch 5/500\n",
      "6/6 [==============================] - 0s 20ms/step - loss: 0.8932 - categorical_accuracy: 0.7576 - val_loss: 0.8156 - val_categorical_accuracy: 1.0000\n",
      "Epoch 6/500\n",
      "6/6 [==============================] - 0s 22ms/step - loss: 0.8479 - categorical_accuracy: 0.7576 - val_loss: 0.7619 - val_categorical_accuracy: 1.0000\n",
      "Epoch 7/500\n",
      "6/6 [==============================] - 0s 21ms/step - loss: 0.7984 - categorical_accuracy: 0.7576 - val_loss: 0.7136 - val_categorical_accuracy: 1.0000\n",
      "Epoch 8/500\n",
      "6/6 [==============================] - 0s 22ms/step - loss: 0.7466 - categorical_accuracy: 0.7576 - val_loss: 0.6446 - val_categorical_accuracy: 1.0000\n",
      "Epoch 9/500\n",
      "6/6 [==============================] - 0s 21ms/step - loss: 0.7105 - categorical_accuracy: 0.7576 - val_loss: 0.5756 - val_categorical_accuracy: 1.0000\n",
      "Epoch 10/500\n",
      "6/6 [==============================] - 0s 21ms/step - loss: 0.6591 - categorical_accuracy: 0.7576 - val_loss: 0.5613 - val_categorical_accuracy: 1.0000\n",
      "Epoch 11/500\n",
      "6/6 [==============================] - 0s 21ms/step - loss: 0.6111 - categorical_accuracy: 0.7576 - val_loss: 0.5065 - val_categorical_accuracy: 1.0000\n",
      "Epoch 12/500\n",
      "6/6 [==============================] - 0s 22ms/step - loss: 0.5684 - categorical_accuracy: 0.7576 - val_loss: 0.4612 - val_categorical_accuracy: 1.0000\n",
      "Epoch 13/500\n",
      "6/6 [==============================] - 0s 20ms/step - loss: 0.5240 - categorical_accuracy: 0.8485 - val_loss: 0.4637 - val_categorical_accuracy: 0.8889\n",
      "Epoch 14/500\n",
      "6/6 [==============================] - 0s 22ms/step - loss: 0.4766 - categorical_accuracy: 0.9394 - val_loss: 0.4240 - val_categorical_accuracy: 0.8889\n",
      "Epoch 15/500\n",
      "6/6 [==============================] - 0s 22ms/step - loss: 0.4357 - categorical_accuracy: 0.9697 - val_loss: 0.3832 - val_categorical_accuracy: 0.8889\n",
      "Epoch 16/500\n",
      "6/6 [==============================] - 0s 22ms/step - loss: 0.3863 - categorical_accuracy: 0.9394 - val_loss: 0.3738 - val_categorical_accuracy: 0.8889\n",
      "Epoch 17/500\n",
      "6/6 [==============================] - 0s 22ms/step - loss: 0.3374 - categorical_accuracy: 0.9697 - val_loss: 0.3061 - val_categorical_accuracy: 0.8889\n",
      "Epoch 18/500\n",
      "6/6 [==============================] - 0s 22ms/step - loss: 0.2989 - categorical_accuracy: 1.0000 - val_loss: 0.3478 - val_categorical_accuracy: 0.8889\n",
      "Epoch 19/500\n",
      "6/6 [==============================] - 0s 22ms/step - loss: 0.2902 - categorical_accuracy: 0.9394 - val_loss: 0.3326 - val_categorical_accuracy: 0.8889\n",
      "Epoch 20/500\n",
      "6/6 [==============================] - 0s 25ms/step - loss: 0.2253 - categorical_accuracy: 1.0000 - val_loss: 0.2486 - val_categorical_accuracy: 0.8889\n",
      "Epoch 21/500\n",
      "6/6 [==============================] - 0s 22ms/step - loss: 0.1708 - categorical_accuracy: 1.0000 - val_loss: 0.3247 - val_categorical_accuracy: 0.8889\n",
      "Epoch 22/500\n",
      "6/6 [==============================] - 0s 36ms/step - loss: 0.1897 - categorical_accuracy: 0.9394 - val_loss: 0.2196 - val_categorical_accuracy: 0.8889\n",
      "Epoch 23/500\n",
      "6/6 [==============================] - 0s 24ms/step - loss: 0.1351 - categorical_accuracy: 1.0000 - val_loss: 0.1838 - val_categorical_accuracy: 1.0000\n",
      "Epoch 24/500\n",
      "6/6 [==============================] - 0s 26ms/step - loss: 0.1129 - categorical_accuracy: 1.0000 - val_loss: 0.2694 - val_categorical_accuracy: 0.8889\n",
      "Epoch 25/500\n",
      "6/6 [==============================] - 0s 20ms/step - loss: 0.0960 - categorical_accuracy: 1.0000 - val_loss: 0.1853 - val_categorical_accuracy: 0.8889\n",
      "Epoch 26/500\n",
      "6/6 [==============================] - 0s 21ms/step - loss: 0.0791 - categorical_accuracy: 1.0000 - val_loss: 0.1940 - val_categorical_accuracy: 0.8889\n",
      "Epoch 27/500\n",
      "6/6 [==============================] - 0s 20ms/step - loss: 0.0679 - categorical_accuracy: 1.0000 - val_loss: 0.2412 - val_categorical_accuracy: 0.8889\n",
      "Epoch 28/500\n",
      "6/6 [==============================] - 0s 25ms/step - loss: 0.0598 - categorical_accuracy: 1.0000 - val_loss: 0.2692 - val_categorical_accuracy: 0.8889\n"
     ]
    }
   ],
   "source": [
    "history = model.fit(X_train, y_train, epochs=500, batch_size=6, validation_split=0.2, callbacks=[early_stop])"
   ]
  },
  {
   "cell_type": "markdown",
   "metadata": {},
   "source": [
    "Trainig graph"
   ]
  },
  {
   "cell_type": "code",
   "execution_count": 8,
   "metadata": {},
   "outputs": [
    {
     "data": {
      "image/png": "[encoded data removed]",
      "text/plain": [
       "<Figure size 640x480 with 1 Axes>"
      ]
     },
     "metadata": {},
     "output_type": "display_data"
    },
    {
     "data": {
      "image/png": "[encoded data removed]",
      "text/plain": [
       "<Figure size 640x480 with 1 Axes>"
      ]
     },
     "metadata": {},
     "output_type": "display_data"
    },
    {
     "name": "stdout",
     "output_type": "stream",
     "text": [
      "The best weights were obtained at the epoch 23 with val_loss = 0.1838\n"
     ]
    }
   ],
   "source": [
    "epochs = range(1, len(history.history['categorical_accuracy']) + 1)\n",
    "plt.plot(epochs,history.history['categorical_accuracy'], label='Training Accuracy')\n",
    "plt.plot(epochs,history.history['val_categorical_accuracy'], label='Validation Accuracy')\n",
    "plt.xlabel('Epoch')\n",
    "plt.ylabel('Accuracy')\n",
    "plt.legend()\n",
    "plt.grid(True)\n",
    "plt.show()\n",
    "\n",
    "plt.plot(epochs,history.history['loss'], label='Training Loss')\n",
    "plt.plot(epochs,history.history['val_loss'], label='Validation Loss')\n",
    "plt.xlabel('Epoch')\n",
    "plt.ylabel('Loss')\n",
    "plt.legend()\n",
    "plt.grid(True)\n",
    "plt.title('Loss')\n",
    "plt.show()\n",
    "\n",
    "\n",
    "val_losses = history.history['val_loss']\n",
    "best_epoch = np.argmin(val_losses)\n",
    "print(f\"The best weights were obtained at the epoch {best_epoch + 1} with val_loss = {val_losses[best_epoch]:.4f}\")"
   ]
  },
  {
   "cell_type": "markdown",
   "metadata": {},
   "source": [
    "Load Model"
   ]
  },
  {
   "cell_type": "code",
   "execution_count": 9,
   "metadata": {},
   "outputs": [],
   "source": [
    "# model = load_model('model/save_model.keras')"
   ]
  },
  {
   "cell_type": "markdown",
   "metadata": {},
   "source": [
    "Save Model"
   ]
  },
  {
   "cell_type": "code",
   "execution_count": 10,
   "metadata": {},
   "outputs": [],
   "source": [
    "model.save('model/save_model.keras')"
   ]
  },
  {
   "cell_type": "markdown",
   "metadata": {},
   "source": [
    "Sumary Model"
   ]
  },
  {
   "cell_type": "code",
   "execution_count": 11,
   "metadata": {},
   "outputs": [
    {
     "name": "stdout",
     "output_type": "stream",
     "text": [
      "Model: \"sequential\"\n",
      "_________________________________________________________________\n",
      " Layer (type)                Output Shape              Param #   \n",
      "=================================================================\n",
      " lstm (LSTM)                 (None, 25, 64)            74240     \n",
      "                                                                 \n",
      " lstm_1 (LSTM)               (None, 25, 128)           98816     \n",
      "                                                                 \n",
      " lstm_2 (LSTM)               (None, 64)                49408     \n",
      "                                                                 \n",
      " dense (Dense)               (None, 64)                4160      \n",
      "                                                                 \n",
      " dense_1 (Dense)             (None, 32)                2080      \n",
      "                                                                 \n",
      " dense_2 (Dense)             (None, 3)                 99        \n",
      "                                                                 \n",
      "=================================================================\n",
      "Total params: 228,803\n",
      "Trainable params: 228,803\n",
      "Non-trainable params: 0\n",
      "_________________________________________________________________\n"
     ]
    }
   ],
   "source": [
    "model.summary()"
   ]
  },
  {
   "cell_type": "markdown",
   "metadata": {},
   "source": [
    "# Evaluation"
   ]
  },
  {
   "cell_type": "code",
   "execution_count": 12,
   "metadata": {},
   "outputs": [],
   "source": [
    "from sklearn.metrics import multilabel_confusion_matrix, accuracy_score"
   ]
  },
  {
   "cell_type": "markdown",
   "metadata": {},
   "source": [
    "Test data"
   ]
  },
  {
   "cell_type": "code",
   "execution_count": 13,
   "metadata": {},
   "outputs": [
    {
     "name": "stdout",
     "output_type": "stream",
     "text": [
      "1/1 [==============================] - 2s 2s/step\n"
     ]
    }
   ],
   "source": [
    "yhat = model.predict(X_test)\n",
    "ytrue = np.argmax(y_test, axis=1).tolist()\n",
    "yhat = np.argmax(yhat, axis=1).tolist()"
   ]
  },
  {
   "cell_type": "markdown",
   "metadata": {},
   "source": [
    "Confusion Matrix"
   ]
  },
  {
   "cell_type": "code",
   "execution_count": 14,
   "metadata": {},
   "outputs": [
    {
     "data": {
      "text/plain": [
       "array([[[2, 0],\n",
       "        [0, 1]],\n",
       "\n",
       "       [[2, 0],\n",
       "        [0, 1]],\n",
       "\n",
       "       [[2, 0],\n",
       "        [0, 1]]], dtype=int64)"
      ]
     },
     "execution_count": 14,
     "metadata": {},
     "output_type": "execute_result"
    }
   ],
   "source": [
    "multilabel_confusion_matrix(ytrue, yhat)"
   ]
  },
  {
   "cell_type": "markdown",
   "metadata": {},
   "source": [
    "Accuracyt Score (1 is good, 0 bad)"
   ]
  },
  {
   "cell_type": "code",
   "execution_count": 15,
   "metadata": {},
   "outputs": [
    {
     "data": {
      "text/plain": [
       "1.0"
      ]
     },
     "execution_count": 15,
     "metadata": {},
     "output_type": "execute_result"
    }
   ],
   "source": [
    "accuracy_score(ytrue, yhat)"
   ]
  }
 ],
 "metadata": {
  "kernelspec": {
   "display_name": ".venv",
   "language": "python",
   "name": "python3"
  },
  "language_info": {
   "codemirror_mode": {
    "name": "ipython",
    "version": 3
   },
   "file_extension": ".py",
   "mimetype": "text/x-python",
   "name": "python",
   "nbconvert_exporter": "python",
   "pygments_lexer": "ipython3",
   "version": "3.8.5"
  }
 },
 "nbformat": 4,
 "nbformat_minor": 2
}
