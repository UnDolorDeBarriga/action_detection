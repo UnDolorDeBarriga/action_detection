{
 "cells": [
  {
   "cell_type": "markdown",
   "metadata": {},
   "source": [
    "# LIBS"
   ]
  },
  {
   "cell_type": "code",
   "execution_count": 63,
   "metadata": {},
   "outputs": [],
   "source": [
    "from sklearn.model_selection import train_test_split\n",
    "from tensorflow.keras.utils import to_categorical\n",
    "from tensorflow.keras.models import Sequential, load_model\n",
    "from tensorflow.keras.layers import LSTM, Dense, Input\n",
    "from tensorflow.keras.callbacks import TensorBoard\n",
    "from tensorflow.keras.optimizers import Adam\n",
    "from tensorflow.keras.callbacks import EarlyStopping\n",
    "import os\n",
    "import numpy as np\n",
    "import csv\n",
    "import matplotlib.pyplot as plt"
   ]
  },
  {
   "cell_type": "markdown",
   "metadata": {},
   "source": [
    "# Data"
   ]
  },
  {
   "cell_type": "markdown",
   "metadata": {},
   "source": [
    "Parameters"
   ]
  },
  {
   "cell_type": "code",
   "execution_count": 64,
   "metadata": {},
   "outputs": [],
   "source": [
    "DATA_PATH = os.path.join('model/data')\n",
    "SEQUENCE_LENGTH = 25 # 25 frames per sequence    "
   ]
  },
  {
   "cell_type": "markdown",
   "metadata": {},
   "source": [
    "Load Data"
   ]
  },
  {
   "cell_type": "code",
   "execution_count": 65,
   "metadata": {},
   "outputs": [
    {
     "name": "stdout",
     "output_type": "stream",
     "text": [
      "[[1 0 0 0]\n",
      " [1 0 0 0]\n",
      " [1 0 0 0]\n",
      " [1 0 0 0]\n",
      " [1 0 0 0]\n",
      " [1 0 0 0]\n",
      " [1 0 0 0]\n",
      " [1 0 0 0]\n",
      " [1 0 0 0]\n",
      " [1 0 0 0]\n",
      " [1 0 0 0]\n",
      " [1 0 0 0]\n",
      " [1 0 0 0]\n",
      " [1 0 0 0]\n",
      " [1 0 0 0]\n",
      " [1 0 0 0]\n",
      " [1 0 0 0]\n",
      " [1 0 0 0]\n",
      " [1 0 0 0]\n",
      " [1 0 0 0]\n",
      " [1 0 0 0]\n",
      " [1 0 0 0]\n",
      " [1 0 0 0]\n",
      " [1 0 0 0]\n",
      " [1 0 0 0]\n",
      " [0 1 0 0]\n",
      " [0 1 0 0]\n",
      " [0 1 0 0]\n",
      " [0 1 0 0]\n",
      " [0 1 0 0]\n",
      " [0 1 0 0]\n",
      " [0 1 0 0]\n",
      " [0 1 0 0]\n",
      " [0 1 0 0]\n",
      " [0 1 0 0]\n",
      " [0 1 0 0]\n",
      " [0 1 0 0]\n",
      " [0 1 0 0]\n",
      " [0 1 0 0]\n",
      " [0 1 0 0]\n",
      " [0 1 0 0]\n",
      " [0 1 0 0]\n",
      " [0 1 0 0]\n",
      " [0 1 0 0]\n",
      " [0 1 0 0]\n",
      " [0 1 0 0]\n",
      " [0 1 0 0]\n",
      " [0 1 0 0]\n",
      " [0 1 0 0]\n",
      " [0 1 0 0]\n",
      " [0 0 1 0]\n",
      " [0 0 1 0]\n",
      " [0 0 1 0]\n",
      " [0 0 1 0]\n",
      " [0 0 1 0]\n",
      " [0 0 1 0]\n",
      " [0 0 1 0]\n",
      " [0 0 1 0]\n",
      " [0 0 1 0]\n",
      " [0 0 1 0]\n",
      " [0 0 1 0]\n",
      " [0 0 1 0]\n",
      " [0 0 1 0]\n",
      " [0 0 1 0]\n",
      " [0 0 1 0]\n",
      " [0 0 1 0]\n",
      " [0 0 1 0]\n",
      " [0 0 1 0]\n",
      " [0 0 1 0]\n",
      " [0 0 1 0]\n",
      " [0 0 1 0]\n",
      " [0 0 1 0]\n",
      " [0 0 1 0]\n",
      " [0 0 1 0]\n",
      " [0 0 1 0]\n",
      " [0 0 0 1]\n",
      " [0 0 0 1]\n",
      " [0 0 0 1]\n",
      " [0 0 0 1]\n",
      " [0 0 0 1]\n",
      " [0 0 0 1]\n",
      " [0 0 0 1]\n",
      " [0 0 0 1]\n",
      " [0 0 0 1]\n",
      " [0 0 0 1]\n",
      " [0 0 0 1]\n",
      " [0 0 0 1]\n",
      " [0 0 0 1]\n",
      " [0 0 0 1]\n",
      " [0 0 0 1]\n",
      " [0 0 0 1]\n",
      " [0 0 0 1]\n",
      " [0 0 0 1]\n",
      " [0 0 0 1]\n",
      " [0 0 0 1]\n",
      " [0 0 0 1]\n",
      " [0 0 0 1]\n",
      " [0 0 0 1]\n",
      " [0 0 0 1]\n",
      " [0 0 0 1]]\n",
      "X_train: (95, 25, 225), y_train: (95, 4)\n",
      "X_test: (5, 25, 225), y_test: (5, 4)\n",
      "(25, 225)\n"
     ]
    }
   ],
   "source": [
    "with open(\"model/custom_model_label.csv\", encoding='utf-8-sig') as f:\n",
    "            label_map = csv.reader(f)\n",
    "            label_map = {\n",
    "                row[0]: index for index, row in enumerate(label_map)\n",
    "            }\n",
    "            actions = list(label_map.keys())\n",
    "\n",
    "sequences, labels = [], []\n",
    "for action in actions:\n",
    "    for sequence in np.array(os.listdir(os.path.join(DATA_PATH, action))).astype(int):\n",
    "        window = []\n",
    "        for frame_num in range(SEQUENCE_LENGTH):\n",
    "            res = np.load(os.path.join(DATA_PATH, action, str(sequence), \"{}.npy\".format(frame_num)))\n",
    "            window.append(res)\n",
    "        sequences.append(window)\n",
    "        labels.append(label_map[action])\n",
    "\n",
    "X = np.array(sequences)\n",
    "y = to_categorical(labels).astype(int)\n",
    "print(y)\n",
    "X_train, X_test, y_train, y_test = train_test_split(X, y, test_size=0.05)\n",
    "\n",
    "print(f\"X_train: {X_train.shape}, y_train: {y_train.shape}\")\n",
    "print(f\"X_test: {X_test.shape}, y_test: {y_test.shape}\")\n",
    "print(X[1].shape)  # ti stampa la shape del primo esempio (dovrebbe essere (25, 126))\n"
   ]
  },
  {
   "cell_type": "markdown",
   "metadata": {},
   "source": [
    "Logs"
   ]
  },
  {
   "cell_type": "code",
   "execution_count": 66,
   "metadata": {},
   "outputs": [],
   "source": [
    "log_dir = os.path.join('Logs')\n",
    "tb_callback = TensorBoard(log_dir=log_dir)"
   ]
  },
  {
   "cell_type": "markdown",
   "metadata": {},
   "source": [
    "# MODEL"
   ]
  },
  {
   "cell_type": "markdown",
   "metadata": {},
   "source": [
    "Def Model"
   ]
  },
  {
   "cell_type": "code",
   "execution_count": 67,
   "metadata": {},
   "outputs": [],
   "source": [
    "model = Sequential()\n",
    "model.add(Input(shape=(X.shape[1:])))\n",
    "model.add(LSTM(64, return_sequences=True))\n",
    "model.add(LSTM(128, return_sequences=True))\n",
    "model.add(LSTM(64, return_sequences=False))\n",
    "model.add(Dense(64, activation='relu'))\n",
    "model.add(Dense(32, activation='relu'))\n",
    "model.add(Dense(len(actions), activation='softmax'))"
   ]
  },
  {
   "cell_type": "markdown",
   "metadata": {},
   "source": [
    "Compile Model"
   ]
  },
  {
   "cell_type": "code",
   "execution_count": 68,
   "metadata": {},
   "outputs": [],
   "source": [
    "optimizer = Adam(learning_rate=0.0001)\n",
    "early_stop = EarlyStopping(\n",
    "    monitor='val_loss',        # o 'val_categorical_accuracy'\n",
    "    patience=5,                # numero di epoche senza miglioramento prima di fermarsi\n",
    "    restore_best_weights=True # ripristina i pesi migliori\n",
    ")\n",
    "\n",
    "model.compile(optimizer=optimizer, loss='categorical_crossentropy', metrics=['categorical_accuracy'])"
   ]
  },
  {
   "cell_type": "markdown",
   "metadata": {},
   "source": [
    "Fit Model (Only When Re-Run the Model)"
   ]
  },
  {
   "cell_type": "code",
   "execution_count": 69,
   "metadata": {},
   "outputs": [
    {
     "name": "stdout",
     "output_type": "stream",
     "text": [
      "Epoch 1/500\n",
      "10/10 [==============================] - 5s 134ms/step - loss: 1.3639 - categorical_accuracy: 0.3684 - val_loss: 1.3502 - val_categorical_accuracy: 0.5789\n",
      "Epoch 2/500\n",
      "10/10 [==============================] - 0s 31ms/step - loss: 1.3377 - categorical_accuracy: 0.4868 - val_loss: 1.3274 - val_categorical_accuracy: 0.5789\n",
      "Epoch 3/500\n",
      "10/10 [==============================] - 0s 21ms/step - loss: 1.3084 - categorical_accuracy: 0.4868 - val_loss: 1.3045 - val_categorical_accuracy: 0.5789\n",
      "Epoch 4/500\n",
      "10/10 [==============================] - 0s 20ms/step - loss: 1.2750 - categorical_accuracy: 0.4868 - val_loss: 1.2687 - val_categorical_accuracy: 0.5789\n",
      "Epoch 5/500\n",
      "10/10 [==============================] - 0s 19ms/step - loss: 1.2337 - categorical_accuracy: 0.4868 - val_loss: 1.2218 - val_categorical_accuracy: 0.5789\n",
      "Epoch 6/500\n",
      "10/10 [==============================] - 0s 19ms/step - loss: 1.1851 - categorical_accuracy: 0.5526 - val_loss: 1.1628 - val_categorical_accuracy: 0.6842\n",
      "Epoch 7/500\n",
      "10/10 [==============================] - 0s 20ms/step - loss: 1.1236 - categorical_accuracy: 0.6316 - val_loss: 1.0893 - val_categorical_accuracy: 0.7368\n",
      "Epoch 8/500\n",
      "10/10 [==============================] - 0s 19ms/step - loss: 1.0608 - categorical_accuracy: 0.6447 - val_loss: 1.0207 - val_categorical_accuracy: 0.7368\n",
      "Epoch 9/500\n",
      "10/10 [==============================] - 0s 20ms/step - loss: 0.9971 - categorical_accuracy: 0.6711 - val_loss: 0.9549 - val_categorical_accuracy: 0.7368\n",
      "Epoch 10/500\n",
      "10/10 [==============================] - 0s 19ms/step - loss: 0.9305 - categorical_accuracy: 0.6974 - val_loss: 0.8818 - val_categorical_accuracy: 0.7368\n",
      "Epoch 11/500\n",
      "10/10 [==============================] - 0s 19ms/step - loss: 0.8715 - categorical_accuracy: 0.7237 - val_loss: 0.8215 - val_categorical_accuracy: 0.7368\n",
      "Epoch 12/500\n",
      "10/10 [==============================] - 0s 20ms/step - loss: 0.8152 - categorical_accuracy: 0.7368 - val_loss: 0.7676 - val_categorical_accuracy: 0.6842\n",
      "Epoch 13/500\n",
      "10/10 [==============================] - 0s 21ms/step - loss: 0.7572 - categorical_accuracy: 0.7500 - val_loss: 0.7036 - val_categorical_accuracy: 0.6842\n",
      "Epoch 14/500\n",
      "10/10 [==============================] - 0s 21ms/step - loss: 0.7074 - categorical_accuracy: 0.7763 - val_loss: 0.6906 - val_categorical_accuracy: 0.6842\n",
      "Epoch 15/500\n",
      "10/10 [==============================] - 0s 21ms/step - loss: 0.6602 - categorical_accuracy: 0.7763 - val_loss: 0.6434 - val_categorical_accuracy: 0.7895\n",
      "Epoch 16/500\n",
      "10/10 [==============================] - 0s 20ms/step - loss: 0.6221 - categorical_accuracy: 0.8816 - val_loss: 0.6080 - val_categorical_accuracy: 0.7368\n",
      "Epoch 17/500\n",
      "10/10 [==============================] - 0s 21ms/step - loss: 0.5808 - categorical_accuracy: 0.8553 - val_loss: 0.5638 - val_categorical_accuracy: 0.7895\n",
      "Epoch 18/500\n",
      "10/10 [==============================] - 0s 21ms/step - loss: 0.5560 - categorical_accuracy: 0.8553 - val_loss: 0.6133 - val_categorical_accuracy: 0.6316\n",
      "Epoch 19/500\n",
      "10/10 [==============================] - 0s 20ms/step - loss: 0.4965 - categorical_accuracy: 0.8947 - val_loss: 0.5301 - val_categorical_accuracy: 0.7368\n",
      "Epoch 20/500\n",
      "10/10 [==============================] - 0s 20ms/step - loss: 0.4587 - categorical_accuracy: 0.8947 - val_loss: 0.5110 - val_categorical_accuracy: 0.6842\n",
      "Epoch 21/500\n",
      "10/10 [==============================] - 0s 20ms/step - loss: 0.4330 - categorical_accuracy: 0.8947 - val_loss: 0.4588 - val_categorical_accuracy: 0.7368\n",
      "Epoch 22/500\n",
      "10/10 [==============================] - 0s 21ms/step - loss: 0.3730 - categorical_accuracy: 0.9605 - val_loss: 0.4466 - val_categorical_accuracy: 0.8421\n",
      "Epoch 23/500\n",
      "10/10 [==============================] - 0s 21ms/step - loss: 0.3661 - categorical_accuracy: 0.9474 - val_loss: 0.4193 - val_categorical_accuracy: 0.8421\n",
      "Epoch 24/500\n",
      "10/10 [==============================] - 0s 20ms/step - loss: 0.3553 - categorical_accuracy: 0.9342 - val_loss: 0.4132 - val_categorical_accuracy: 0.8947\n",
      "Epoch 25/500\n",
      "10/10 [==============================] - 0s 20ms/step - loss: 0.2742 - categorical_accuracy: 0.9737 - val_loss: 0.3907 - val_categorical_accuracy: 0.8947\n",
      "Epoch 26/500\n",
      "10/10 [==============================] - 0s 20ms/step - loss: 0.2885 - categorical_accuracy: 0.9342 - val_loss: 0.3722 - val_categorical_accuracy: 0.8947\n",
      "Epoch 27/500\n",
      "10/10 [==============================] - 0s 19ms/step - loss: 0.2246 - categorical_accuracy: 0.9737 - val_loss: 0.3386 - val_categorical_accuracy: 0.8947\n",
      "Epoch 28/500\n",
      "10/10 [==============================] - 0s 19ms/step - loss: 0.2132 - categorical_accuracy: 0.9737 - val_loss: 0.3932 - val_categorical_accuracy: 0.8421\n",
      "Epoch 29/500\n",
      "10/10 [==============================] - 0s 19ms/step - loss: 0.2037 - categorical_accuracy: 0.9737 - val_loss: 0.4909 - val_categorical_accuracy: 0.7895\n",
      "Epoch 30/500\n",
      "10/10 [==============================] - 0s 20ms/step - loss: 0.2228 - categorical_accuracy: 0.9474 - val_loss: 0.3127 - val_categorical_accuracy: 0.8947\n",
      "Epoch 31/500\n",
      "10/10 [==============================] - 0s 26ms/step - loss: 0.2668 - categorical_accuracy: 0.9342 - val_loss: 0.3985 - val_categorical_accuracy: 0.8421\n",
      "Epoch 32/500\n",
      "10/10 [==============================] - 0s 20ms/step - loss: 0.1957 - categorical_accuracy: 0.9474 - val_loss: 0.3504 - val_categorical_accuracy: 0.8947\n",
      "Epoch 33/500\n",
      "10/10 [==============================] - 0s 19ms/step - loss: 0.1447 - categorical_accuracy: 0.9737 - val_loss: 0.3396 - val_categorical_accuracy: 0.8947\n",
      "Epoch 34/500\n",
      "10/10 [==============================] - 0s 21ms/step - loss: 0.1461 - categorical_accuracy: 0.9605 - val_loss: 0.2453 - val_categorical_accuracy: 0.9474\n",
      "Epoch 35/500\n",
      "10/10 [==============================] - 0s 21ms/step - loss: 0.1846 - categorical_accuracy: 0.9474 - val_loss: 0.3651 - val_categorical_accuracy: 0.8421\n",
      "Epoch 36/500\n",
      "10/10 [==============================] - 0s 21ms/step - loss: 0.1670 - categorical_accuracy: 0.9605 - val_loss: 0.3107 - val_categorical_accuracy: 0.8947\n",
      "Epoch 37/500\n",
      "10/10 [==============================] - 0s 21ms/step - loss: 0.2050 - categorical_accuracy: 0.9474 - val_loss: 0.3194 - val_categorical_accuracy: 0.8947\n",
      "Epoch 38/500\n",
      "10/10 [==============================] - 0s 21ms/step - loss: 0.1297 - categorical_accuracy: 0.9737 - val_loss: 0.3872 - val_categorical_accuracy: 0.8947\n",
      "Epoch 39/500\n",
      "10/10 [==============================] - 0s 23ms/step - loss: 0.1000 - categorical_accuracy: 0.9868 - val_loss: 0.4160 - val_categorical_accuracy: 0.8421\n"
     ]
    }
   ],
   "source": [
    "history = model.fit(X_train, y_train, epochs=500, batch_size=8, validation_split=0.2, callbacks=[early_stop])"
   ]
  },
  {
   "cell_type": "markdown",
   "metadata": {},
   "source": [
    "Trainig graph"
   ]
  },
  {
   "cell_type": "code",
   "execution_count": 70,
   "metadata": {},
   "outputs": [
    {
     "data": {
      "image/png": "[encoded data removed]",
      "text/plain": [
       "<Figure size 640x480 with 1 Axes>"
      ]
     },
     "metadata": {},
     "output_type": "display_data"
    },
    {
     "data": {
      "image/png": "[encoded data removed]",
      "text/plain": [
       "<Figure size 640x480 with 1 Axes>"
      ]
     },
     "metadata": {},
     "output_type": "display_data"
    },
    {
     "name": "stdout",
     "output_type": "stream",
     "text": [
      "The best weights were obtained at the epoch 34 with val_loss = 0.2453\n"
     ]
    }
   ],
   "source": [
    "epochs = range(1, len(history.history['categorical_accuracy']) + 1)\n",
    "plt.plot(epochs,history.history['categorical_accuracy'], label='Training Accuracy')\n",
    "plt.plot(epochs,history.history['val_categorical_accuracy'], label='Validation Accuracy')\n",
    "plt.xlabel('Epoch')\n",
    "plt.ylabel('Accuracy')\n",
    "plt.legend()\n",
    "plt.grid(True)\n",
    "plt.show()\n",
    "\n",
    "plt.plot(epochs,history.history['loss'], label='Training Loss')\n",
    "plt.plot(epochs,history.history['val_loss'], label='Validation Loss')\n",
    "plt.xlabel('Epoch')\n",
    "plt.ylabel('Loss')\n",
    "plt.legend()\n",
    "plt.grid(True)\n",
    "plt.title('Loss')\n",
    "plt.show()\n",
    "\n",
    "\n",
    "val_losses = history.history['val_loss']\n",
    "best_epoch = np.argmin(val_losses)\n",
    "print(f\"The best weights were obtained at the epoch {best_epoch + 1} with val_loss = {val_losses[best_epoch]:.4f}\")"
   ]
  },
  {
   "cell_type": "markdown",
   "metadata": {},
   "source": [
    "Load Model"
   ]
  },
  {
   "cell_type": "code",
   "execution_count": 71,
   "metadata": {},
   "outputs": [],
   "source": [
    "# model = load_model('model/save_model.keras')"
   ]
  },
  {
   "cell_type": "markdown",
   "metadata": {},
   "source": [
    "Save Model"
   ]
  },
  {
   "cell_type": "code",
   "execution_count": 72,
   "metadata": {},
   "outputs": [],
   "source": [
    "model.save('model/save_model.keras')"
   ]
  },
  {
   "cell_type": "markdown",
   "metadata": {},
   "source": [
    "Sumary Model"
   ]
  },
  {
   "cell_type": "code",
   "execution_count": 73,
   "metadata": {},
   "outputs": [
    {
     "name": "stdout",
     "output_type": "stream",
     "text": [
      "Model: \"sequential_4\"\n",
      "_________________________________________________________________\n",
      " Layer (type)                Output Shape              Param #   \n",
      "=================================================================\n",
      " lstm_12 (LSTM)              (None, 25, 64)            74240     \n",
      "                                                                 \n",
      " lstm_13 (LSTM)              (None, 25, 128)           98816     \n",
      "                                                                 \n",
      " lstm_14 (LSTM)              (None, 64)                49408     \n",
      "                                                                 \n",
      " dense_12 (Dense)            (None, 64)                4160      \n",
      "                                                                 \n",
      " dense_13 (Dense)            (None, 32)                2080      \n",
      "                                                                 \n",
      " dense_14 (Dense)            (None, 4)                 132       \n",
      "                                                                 \n",
      "=================================================================\n",
      "Total params: 228,836\n",
      "Trainable params: 228,836\n",
      "Non-trainable params: 0\n",
      "_________________________________________________________________\n"
     ]
    }
   ],
   "source": [
    "model.summary()"
   ]
  },
  {
   "cell_type": "markdown",
   "metadata": {},
   "source": [
    "# Evaluation"
   ]
  },
  {
   "cell_type": "code",
   "execution_count": 74,
   "metadata": {},
   "outputs": [],
   "source": [
    "from sklearn.metrics import multilabel_confusion_matrix, accuracy_score"
   ]
  },
  {
   "cell_type": "markdown",
   "metadata": {},
   "source": [
    "Test data"
   ]
  },
  {
   "cell_type": "code",
   "execution_count": 75,
   "metadata": {},
   "outputs": [
    {
     "name": "stdout",
     "output_type": "stream",
     "text": [
      "WARNING:tensorflow:5 out of the last 5 calls to <function Model.make_predict_function.<locals>.predict_function at 0x00000249CC03C0D0> triggered tf.function retracing. Tracing is expensive and the excessive number of tracings could be due to (1) creating @tf.function repeatedly in a loop, (2) passing tensors with different shapes, (3) passing Python objects instead of tensors. For (1), please define your @tf.function outside of the loop. For (2), @tf.function has reduce_retracing=True option that can avoid unnecessary retracing. For (3), please refer to https://www.tensorflow.org/guide/function#controlling_retracing and https://www.tensorflow.org/api_docs/python/tf/function for  more details.\n",
      "1/1 [==============================] - 1s 1s/step\n"
     ]
    }
   ],
   "source": [
    "yhat = model.predict(X_test)\n",
    "ytrue = np.argmax(y_test, axis=1).tolist()\n",
    "yhat = np.argmax(yhat, axis=1).tolist()"
   ]
  },
  {
   "cell_type": "markdown",
   "metadata": {},
   "source": [
    "Confusion Matrix"
   ]
  },
  {
   "cell_type": "code",
   "execution_count": 76,
   "metadata": {},
   "outputs": [
    {
     "data": {
      "text/plain": [
       "array([[[3, 0],\n",
       "        [0, 2]],\n",
       "\n",
       "       [[3, 0],\n",
       "        [0, 2]],\n",
       "\n",
       "       [[4, 0],\n",
       "        [0, 1]]], dtype=int64)"
      ]
     },
     "execution_count": 76,
     "metadata": {},
     "output_type": "execute_result"
    }
   ],
   "source": [
    "multilabel_confusion_matrix(ytrue, yhat)"
   ]
  },
  {
   "cell_type": "markdown",
   "metadata": {},
   "source": [
    "Accuracyt Score (1 is good, 0 bad)"
   ]
  },
  {
   "cell_type": "code",
   "execution_count": 77,
   "metadata": {},
   "outputs": [
    {
     "data": {
      "text/plain": [
       "1.0"
      ]
     },
     "execution_count": 77,
     "metadata": {},
     "output_type": "execute_result"
    }
   ],
   "source": [
    "accuracy_score(ytrue, yhat)"
   ]
  }
 ],
 "metadata": {
  "kernelspec": {
   "display_name": ".venv",
   "language": "python",
   "name": "python3"
  },
  "language_info": {
   "codemirror_mode": {
    "name": "ipython",
    "version": 3
   },
   "file_extension": ".py",
   "mimetype": "text/x-python",
   "name": "python",
   "nbconvert_exporter": "python",
   "pygments_lexer": "ipython3",
   "version": "3.8.5"
  }
 },
 "nbformat": 4,
 "nbformat_minor": 2
}
