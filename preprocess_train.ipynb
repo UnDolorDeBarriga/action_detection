{
 "cells": [
  {
   "cell_type": "markdown",
   "metadata": {},
   "source": [
    "# LIBS"
   ]
  },
  {
   "cell_type": "code",
   "execution_count": 74,
   "metadata": {},
   "outputs": [],
   "source": [
    "from sklearn.model_selection import train_test_split\n",
    "from tensorflow.keras.utils import to_categorical\n",
    "from tensorflow.keras.models import Sequential, load_model\n",
    "from tensorflow.keras.layers import LSTM, Dense, Input\n",
    "from tensorflow.keras.callbacks import TensorBoard\n",
    "from tensorflow.keras.optimizers import Adam\n",
    "from tensorflow.keras.callbacks import EarlyStopping\n",
    "import os\n",
    "import numpy as np\n",
    "import csv\n",
    "import matplotlib.pyplot as plt"
   ]
  },
  {
   "cell_type": "markdown",
   "metadata": {},
   "source": [
    "# Data"
   ]
  },
  {
   "cell_type": "markdown",
   "metadata": {},
   "source": [
    "Parameters"
   ]
  },
  {
   "cell_type": "code",
   "execution_count": 75,
   "metadata": {},
   "outputs": [],
   "source": [
    "DATA_PATH = os.path.join('model/data')\n",
    "SEQUENCE_LENGTH = 25 # 25 frames per sequence    "
   ]
  },
  {
   "cell_type": "markdown",
   "metadata": {},
   "source": [
    "Load Data"
   ]
  },
  {
   "cell_type": "code",
   "execution_count": 76,
   "metadata": {},
   "outputs": [
    {
     "name": "stdout",
     "output_type": "stream",
     "text": [
      "[[1 0 0]\n",
      " [1 0 0]\n",
      " [1 0 0]\n",
      " [1 0 0]\n",
      " [1 0 0]\n",
      " [1 0 0]\n",
      " [1 0 0]\n",
      " [1 0 0]\n",
      " [1 0 0]\n",
      " [1 0 0]\n",
      " [1 0 0]\n",
      " [1 0 0]\n",
      " [1 0 0]\n",
      " [1 0 0]\n",
      " [1 0 0]\n",
      " [0 1 0]\n",
      " [0 1 0]\n",
      " [0 1 0]\n",
      " [0 1 0]\n",
      " [0 1 0]\n",
      " [0 1 0]\n",
      " [0 1 0]\n",
      " [0 1 0]\n",
      " [0 1 0]\n",
      " [0 1 0]\n",
      " [0 1 0]\n",
      " [0 1 0]\n",
      " [0 1 0]\n",
      " [0 1 0]\n",
      " [0 1 0]\n",
      " [0 0 1]\n",
      " [0 0 1]\n",
      " [0 0 1]\n",
      " [0 0 1]\n",
      " [0 0 1]\n",
      " [0 0 1]\n",
      " [0 0 1]\n",
      " [0 0 1]\n",
      " [0 0 1]\n",
      " [0 0 1]\n",
      " [0 0 1]\n",
      " [0 0 1]\n",
      " [0 0 1]\n",
      " [0 0 1]\n",
      " [0 0 1]]\n",
      "X_train: (42, 25, 258), y_train: (42, 3)\n",
      "X_test: (3, 25, 258), y_test: (3, 3)\n",
      "(25, 258)\n"
     ]
    }
   ],
   "source": [
    "with open(\"model/custom_model_label.csv\", encoding='utf-8-sig') as f:\n",
    "            label_map = csv.reader(f)\n",
    "            label_map = {\n",
    "                row[0]: index for index, row in enumerate(label_map)\n",
    "            }\n",
    "            actions = list(label_map.keys())\n",
    "\n",
    "sequences, labels = [], []\n",
    "for action in actions:\n",
    "    for sequence in np.array(os.listdir(os.path.join(DATA_PATH, action))).astype(int):\n",
    "        window = []\n",
    "        for frame_num in range(SEQUENCE_LENGTH):\n",
    "            res = np.load(os.path.join(DATA_PATH, action, str(sequence), \"{}.npy\".format(frame_num)))\n",
    "            window.append(res)\n",
    "        sequences.append(window)\n",
    "        labels.append(label_map[action])\n",
    "\n",
    "X = np.array(sequences)\n",
    "y = to_categorical(labels).astype(int)\n",
    "print(y)\n",
    "X_train, X_test, y_train, y_test = train_test_split(X, y, test_size=0.05)\n",
    "\n",
    "print(f\"X_train: {X_train.shape}, y_train: {y_train.shape}\")\n",
    "print(f\"X_test: {X_test.shape}, y_test: {y_test.shape}\")\n",
    "print(X[1].shape)  # ti stampa la shape del primo esempio (dovrebbe essere (25, 126))\n"
   ]
  },
  {
   "cell_type": "markdown",
   "metadata": {},
   "source": [
    "Logs"
   ]
  },
  {
   "cell_type": "code",
   "execution_count": 77,
   "metadata": {},
   "outputs": [],
   "source": [
    "log_dir = os.path.join('Logs')\n",
    "tb_callback = TensorBoard(log_dir=log_dir)"
   ]
  },
  {
   "cell_type": "markdown",
   "metadata": {},
   "source": [
    "# MODEL"
   ]
  },
  {
   "cell_type": "markdown",
   "metadata": {},
   "source": [
    "Def Model"
   ]
  },
  {
   "cell_type": "code",
   "execution_count": 78,
   "metadata": {},
   "outputs": [],
   "source": [
    "model = Sequential()\n",
    "model.add(Input(shape=(X.shape[1:])))\n",
    "model.add(LSTM(64, return_sequences=True))\n",
    "model.add(LSTM(128, return_sequences=True))\n",
    "model.add(LSTM(64, return_sequences=False))\n",
    "model.add(Dense(64, activation='relu'))\n",
    "model.add(Dense(32, activation='relu'))\n",
    "model.add(Dense(len(actions), activation='softmax'))"
   ]
  },
  {
   "cell_type": "markdown",
   "metadata": {},
   "source": [
    "Compile Model"
   ]
  },
  {
   "cell_type": "code",
   "execution_count": 79,
   "metadata": {},
   "outputs": [],
   "source": [
    "optimizer = Adam(learning_rate=0.0001)\n",
    "early_stop = EarlyStopping(\n",
    "    monitor='val_loss',        # o 'val_categorical_accuracy'\n",
    "    patience=5,                # numero di epoche senza miglioramento prima di fermarsi\n",
    "    restore_best_weights=True # ripristina i pesi migliori\n",
    ")\n",
    "\n",
    "model.compile(optimizer=optimizer, loss='categorical_crossentropy', metrics=['categorical_accuracy'])"
   ]
  },
  {
   "cell_type": "markdown",
   "metadata": {},
   "source": [
    "Fit Model (Only When Re-Run the Model)"
   ]
  },
  {
   "cell_type": "code",
   "execution_count": 80,
   "metadata": {},
   "outputs": [
    {
     "name": "stdout",
     "output_type": "stream",
     "text": [
      "Epoch 1/500\n",
      "6/6 [==============================] - 5s 228ms/step - loss: 1.0946 - categorical_accuracy: 0.4242 - val_loss: 1.1060 - val_categorical_accuracy: 0.1111\n",
      "Epoch 2/500\n",
      "6/6 [==============================] - 0s 35ms/step - loss: 1.0365 - categorical_accuracy: 0.4848 - val_loss: 1.0690 - val_categorical_accuracy: 0.4444\n",
      "Epoch 3/500\n",
      "6/6 [==============================] - 0s 39ms/step - loss: 0.9963 - categorical_accuracy: 0.5758 - val_loss: 1.0283 - val_categorical_accuracy: 0.6667\n",
      "Epoch 4/500\n",
      "6/6 [==============================] - 0s 25ms/step - loss: 0.9378 - categorical_accuracy: 0.6364 - val_loss: 0.9877 - val_categorical_accuracy: 0.6667\n",
      "Epoch 5/500\n",
      "6/6 [==============================] - 0s 35ms/step - loss: 0.8773 - categorical_accuracy: 0.7879 - val_loss: 0.9474 - val_categorical_accuracy: 0.8889\n",
      "Epoch 6/500\n",
      "6/6 [==============================] - 0s 36ms/step - loss: 0.8095 - categorical_accuracy: 0.8788 - val_loss: 0.8985 - val_categorical_accuracy: 1.0000\n",
      "Epoch 7/500\n",
      "6/6 [==============================] - 0s 27ms/step - loss: 0.7467 - categorical_accuracy: 0.9091 - val_loss: 0.8481 - val_categorical_accuracy: 0.8889\n",
      "Epoch 8/500\n",
      "6/6 [==============================] - 0s 92ms/step - loss: 0.6808 - categorical_accuracy: 0.9697 - val_loss: 0.8000 - val_categorical_accuracy: 1.0000\n",
      "Epoch 9/500\n",
      "6/6 [==============================] - 0s 44ms/step - loss: 0.6257 - categorical_accuracy: 0.9091 - val_loss: 0.7597 - val_categorical_accuracy: 1.0000\n",
      "Epoch 10/500\n",
      "6/6 [==============================] - 0s 31ms/step - loss: 0.5753 - categorical_accuracy: 0.8485 - val_loss: 0.7186 - val_categorical_accuracy: 1.0000\n",
      "Epoch 11/500\n",
      "6/6 [==============================] - 0s 44ms/step - loss: 0.5340 - categorical_accuracy: 0.9697 - val_loss: 0.6786 - val_categorical_accuracy: 0.8889\n",
      "Epoch 12/500\n",
      "6/6 [==============================] - 0s 29ms/step - loss: 0.4951 - categorical_accuracy: 0.9091 - val_loss: 0.6492 - val_categorical_accuracy: 0.7778\n",
      "Epoch 13/500\n",
      "6/6 [==============================] - 0s 26ms/step - loss: 0.4668 - categorical_accuracy: 0.9091 - val_loss: 0.6217 - val_categorical_accuracy: 0.8889\n",
      "Epoch 14/500\n",
      "6/6 [==============================] - 0s 29ms/step - loss: 0.4371 - categorical_accuracy: 0.9697 - val_loss: 0.5967 - val_categorical_accuracy: 0.7778\n",
      "Epoch 15/500\n",
      "6/6 [==============================] - 0s 50ms/step - loss: 0.4135 - categorical_accuracy: 1.0000 - val_loss: 0.5742 - val_categorical_accuracy: 1.0000\n",
      "Epoch 16/500\n",
      "6/6 [==============================] - 0s 30ms/step - loss: 0.3873 - categorical_accuracy: 1.0000 - val_loss: 0.5486 - val_categorical_accuracy: 0.7778\n",
      "Epoch 17/500\n",
      "6/6 [==============================] - 0s 28ms/step - loss: 0.3587 - categorical_accuracy: 1.0000 - val_loss: 0.5203 - val_categorical_accuracy: 0.7778\n",
      "Epoch 18/500\n",
      "6/6 [==============================] - 0s 25ms/step - loss: 0.3349 - categorical_accuracy: 0.9697 - val_loss: 0.4990 - val_categorical_accuracy: 0.7778\n",
      "Epoch 19/500\n",
      "6/6 [==============================] - 0s 26ms/step - loss: 0.2986 - categorical_accuracy: 1.0000 - val_loss: 0.4723 - val_categorical_accuracy: 0.7778\n",
      "Epoch 20/500\n",
      "6/6 [==============================] - 0s 23ms/step - loss: 0.2659 - categorical_accuracy: 1.0000 - val_loss: 0.5310 - val_categorical_accuracy: 0.6667\n",
      "Epoch 21/500\n",
      "6/6 [==============================] - 0s 26ms/step - loss: 0.2534 - categorical_accuracy: 0.9394 - val_loss: 0.4408 - val_categorical_accuracy: 0.7778\n",
      "Epoch 22/500\n",
      "6/6 [==============================] - 0s 23ms/step - loss: 0.2329 - categorical_accuracy: 0.9697 - val_loss: 0.5354 - val_categorical_accuracy: 0.7778\n",
      "Epoch 23/500\n",
      "6/6 [==============================] - 0s 26ms/step - loss: 0.2035 - categorical_accuracy: 1.0000 - val_loss: 0.4735 - val_categorical_accuracy: 0.6667\n",
      "Epoch 24/500\n",
      "6/6 [==============================] - 0s 38ms/step - loss: 0.2041 - categorical_accuracy: 0.9394 - val_loss: 0.6075 - val_categorical_accuracy: 0.7778\n",
      "Epoch 25/500\n",
      "6/6 [==============================] - 0s 24ms/step - loss: 0.1967 - categorical_accuracy: 0.9697 - val_loss: 0.4260 - val_categorical_accuracy: 0.7778\n",
      "Epoch 26/500\n",
      "6/6 [==============================] - 0s 22ms/step - loss: 0.1586 - categorical_accuracy: 1.0000 - val_loss: 0.5381 - val_categorical_accuracy: 0.7778\n",
      "Epoch 27/500\n",
      "6/6 [==============================] - 0s 25ms/step - loss: 0.1697 - categorical_accuracy: 0.9697 - val_loss: 0.5713 - val_categorical_accuracy: 0.7778\n",
      "Epoch 28/500\n",
      "6/6 [==============================] - 0s 25ms/step - loss: 0.1046 - categorical_accuracy: 1.0000 - val_loss: 0.2780 - val_categorical_accuracy: 0.8889\n",
      "Epoch 29/500\n",
      "6/6 [==============================] - 0s 26ms/step - loss: 0.1342 - categorical_accuracy: 0.9697 - val_loss: 0.5215 - val_categorical_accuracy: 0.7778\n",
      "Epoch 30/500\n",
      "6/6 [==============================] - 0s 25ms/step - loss: 0.0836 - categorical_accuracy: 1.0000 - val_loss: 0.6831 - val_categorical_accuracy: 0.7778\n",
      "Epoch 31/500\n",
      "6/6 [==============================] - 0s 24ms/step - loss: 0.0811 - categorical_accuracy: 1.0000 - val_loss: 0.6185 - val_categorical_accuracy: 0.7778\n",
      "Epoch 32/500\n",
      "6/6 [==============================] - 0s 24ms/step - loss: 0.0682 - categorical_accuracy: 1.0000 - val_loss: 0.5148 - val_categorical_accuracy: 0.7778\n",
      "Epoch 33/500\n",
      "6/6 [==============================] - 0s 28ms/step - loss: 0.0619 - categorical_accuracy: 1.0000 - val_loss: 0.5122 - val_categorical_accuracy: 0.7778\n"
     ]
    }
   ],
   "source": [
    "history = model.fit(X_train, y_train, epochs=500, batch_size=6, validation_split=0.2, callbacks=[early_stop])"
   ]
  },
  {
   "cell_type": "markdown",
   "metadata": {},
   "source": [
    "Trainig graph"
   ]
  },
  {
   "cell_type": "code",
   "execution_count": 81,
   "metadata": {},
   "outputs": [
    {
     "data": {
      "image/png": "[encoded data removed]",
      "text/plain": [
       "<Figure size 640x480 with 1 Axes>"
      ]
     },
     "metadata": {},
     "output_type": "display_data"
    },
    {
     "data": {
      "image/png": "[encoded data removed]",
      "text/plain": [
       "<Figure size 640x480 with 1 Axes>"
      ]
     },
     "metadata": {},
     "output_type": "display_data"
    },
    {
     "name": "stdout",
     "output_type": "stream",
     "text": [
      "The best weights were obtained at the epoch 28 with val_loss = 0.2780\n"
     ]
    }
   ],
   "source": [
    "epochs = range(1, len(history.history['categorical_accuracy']) + 1)\n",
    "plt.plot(epochs,history.history['categorical_accuracy'], label='Training Accuracy')\n",
    "plt.plot(epochs,history.history['val_categorical_accuracy'], label='Validation Accuracy')\n",
    "plt.xlabel('Epoch')\n",
    "plt.ylabel('Accuracy')\n",
    "plt.legend()\n",
    "plt.grid(True)\n",
    "plt.show()\n",
    "\n",
    "plt.plot(epochs,history.history['loss'], label='Training Loss')\n",
    "plt.plot(epochs,history.history['val_loss'], label='Validation Loss')\n",
    "plt.xlabel('Epoch')\n",
    "plt.ylabel('Loss')\n",
    "plt.legend()\n",
    "plt.grid(True)\n",
    "plt.title('Loss')\n",
    "plt.show()\n",
    "\n",
    "\n",
    "val_losses = history.history['val_loss']\n",
    "best_epoch = np.argmin(val_losses)\n",
    "print(f\"The best weights were obtained at the epoch {best_epoch + 1} with val_loss = {val_losses[best_epoch]:.4f}\")"
   ]
  },
  {
   "cell_type": "markdown",
   "metadata": {},
   "source": [
    "Load Model"
   ]
  },
  {
   "cell_type": "code",
   "execution_count": 82,
   "metadata": {},
   "outputs": [],
   "source": [
    "# model = load_model('model/save_model.keras')"
   ]
  },
  {
   "cell_type": "markdown",
   "metadata": {},
   "source": [
    "Save Model"
   ]
  },
  {
   "cell_type": "code",
   "execution_count": 83,
   "metadata": {},
   "outputs": [],
   "source": [
    "model.save('model/save_model.keras')"
   ]
  },
  {
   "cell_type": "markdown",
   "metadata": {},
   "source": [
    "Sumary Model"
   ]
  },
  {
   "cell_type": "code",
   "execution_count": 84,
   "metadata": {},
   "outputs": [
    {
     "name": "stdout",
     "output_type": "stream",
     "text": [
      "Model: \"sequential_4\"\n",
      "_________________________________________________________________\n",
      " Layer (type)                Output Shape              Param #   \n",
      "=================================================================\n",
      " lstm_12 (LSTM)              (None, 25, 64)            82688     \n",
      "                                                                 \n",
      " lstm_13 (LSTM)              (None, 25, 128)           98816     \n",
      "                                                                 \n",
      " lstm_14 (LSTM)              (None, 64)                49408     \n",
      "                                                                 \n",
      " dense_12 (Dense)            (None, 64)                4160      \n",
      "                                                                 \n",
      " dense_13 (Dense)            (None, 32)                2080      \n",
      "                                                                 \n",
      " dense_14 (Dense)            (None, 3)                 99        \n",
      "                                                                 \n",
      "=================================================================\n",
      "Total params: 237,251\n",
      "Trainable params: 237,251\n",
      "Non-trainable params: 0\n",
      "_________________________________________________________________\n"
     ]
    }
   ],
   "source": [
    "model.summary()"
   ]
  },
  {
   "cell_type": "markdown",
   "metadata": {},
   "source": [
    "# Evaluation"
   ]
  },
  {
   "cell_type": "code",
   "execution_count": 85,
   "metadata": {},
   "outputs": [],
   "source": [
    "from sklearn.metrics import multilabel_confusion_matrix, accuracy_score"
   ]
  },
  {
   "cell_type": "markdown",
   "metadata": {},
   "source": [
    "Test data"
   ]
  },
  {
   "cell_type": "code",
   "execution_count": 86,
   "metadata": {},
   "outputs": [
    {
     "name": "stdout",
     "output_type": "stream",
     "text": [
      "WARNING:tensorflow:5 out of the last 6 calls to <function Model.make_predict_function.<locals>.predict_function at 0x000001F043D19700> triggered tf.function retracing. Tracing is expensive and the excessive number of tracings could be due to (1) creating @tf.function repeatedly in a loop, (2) passing tensors with different shapes, (3) passing Python objects instead of tensors. For (1), please define your @tf.function outside of the loop. For (2), @tf.function has reduce_retracing=True option that can avoid unnecessary retracing. For (3), please refer to https://www.tensorflow.org/guide/function#controlling_retracing and https://www.tensorflow.org/api_docs/python/tf/function for  more details.\n",
      "1/1 [==============================] - 1s 992ms/step\n"
     ]
    }
   ],
   "source": [
    "yhat = model.predict(X_test)\n",
    "ytrue = np.argmax(y_test, axis=1).tolist()\n",
    "yhat = np.argmax(yhat, axis=1).tolist()"
   ]
  },
  {
   "cell_type": "markdown",
   "metadata": {},
   "source": [
    "Confusion Matrix"
   ]
  },
  {
   "cell_type": "code",
   "execution_count": 87,
   "metadata": {},
   "outputs": [
    {
     "data": {
      "text/plain": [
       "array([[[2, 0],\n",
       "        [0, 1]],\n",
       "\n",
       "       [[1, 0],\n",
       "        [1, 1]],\n",
       "\n",
       "       [[2, 1],\n",
       "        [0, 0]]], dtype=int64)"
      ]
     },
     "execution_count": 87,
     "metadata": {},
     "output_type": "execute_result"
    }
   ],
   "source": [
    "multilabel_confusion_matrix(ytrue, yhat)"
   ]
  },
  {
   "cell_type": "markdown",
   "metadata": {},
   "source": [
    "Accuracyt Score (1 is good, 0 bad)"
   ]
  },
  {
   "cell_type": "code",
   "execution_count": 88,
   "metadata": {},
   "outputs": [
    {
     "data": {
      "text/plain": [
       "0.6666666666666666"
      ]
     },
     "execution_count": 88,
     "metadata": {},
     "output_type": "execute_result"
    }
   ],
   "source": [
    "accuracy_score(ytrue, yhat)"
   ]
  }
 ],
 "metadata": {
  "kernelspec": {
   "display_name": ".venv",
   "language": "python",
   "name": "python3"
  },
  "language_info": {
   "codemirror_mode": {
    "name": "ipython",
    "version": 3
   },
   "file_extension": ".py",
   "mimetype": "text/x-python",
   "name": "python",
   "nbconvert_exporter": "python",
   "pygments_lexer": "ipython3",
   "version": "3.8.5"
  }
 },
 "nbformat": 4,
 "nbformat_minor": 2
}
