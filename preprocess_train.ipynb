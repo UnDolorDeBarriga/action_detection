{
 "cells": [
  {
   "cell_type": "markdown",
   "metadata": {},
   "source": [
    "# LIBS"
   ]
  },
  {
   "cell_type": "code",
   "execution_count": 1,
   "metadata": {},
   "outputs": [],
   "source": [
    "from sklearn.model_selection import train_test_split\n",
    "from tensorflow.keras.utils import to_categorical\n",
    "from tensorflow.keras.models import Sequential, load_model\n",
    "from tensorflow.keras.layers import LSTM, Dense, Input,Dropout\n",
    "from tensorflow.keras.callbacks import TensorBoard\n",
    "from tensorflow.keras.optimizers import Adam\n",
    "from tensorflow.keras.callbacks import EarlyStopping\n",
    "import os\n",
    "import numpy as np\n",
    "import csv\n",
    "import matplotlib.pyplot as plt\n",
    "\n",
    "from utilities import rotate_data, squeeze_data, sequential_arm_rotation\n",
    "from utilities import VIDEO_LENGTH"
   ]
  },
  {
   "cell_type": "markdown",
   "metadata": {},
   "source": [
    "# Data"
   ]
  },
  {
   "cell_type": "markdown",
   "metadata": {},
   "source": [
    "Parameters"
   ]
  },
  {
   "cell_type": "code",
   "execution_count": 2,
   "metadata": {},
   "outputs": [],
   "source": [
    "DATA_PATH = os.path.join('model/data')\n",
    "VIDEO_LENGTH # 25 frames per sequence   \n",
    "MAX_ANGLE = 20 # degrees\n",
    "MAX_SQUEEZE = 0.15 # 15% of the image size\n",
    "MAX_ARM_ROTATION = 4\n",
    "ARM_ROTATION_PROB = 3/10"
   ]
  },
  {
   "cell_type": "markdown",
   "metadata": {},
   "source": [
    "Load Data"
   ]
  },
  {
   "cell_type": "code",
   "execution_count": 3,
   "metadata": {},
   "outputs": [],
   "source": [
    "with open(\"model/custom_model_label.csv\", encoding='utf-8-sig') as f:\n",
    "            label_map = csv.reader(f)\n",
    "            label_map = {\n",
    "                row[0]: index for index, row in enumerate(label_map)\n",
    "            }\n",
    "            actions = list(label_map.keys())\n",
    "\n",
    "sequences, labels = [], []\n",
    "for action in actions:\n",
    "    for sequence in np.array(os.listdir(os.path.join(DATA_PATH, action))).astype(int):\n",
    "        window = []\n",
    "        for frame_num in range(VIDEO_LENGTH):\n",
    "            res = np.load(os.path.join(DATA_PATH, action, str(sequence), \"{}.npy\".format(frame_num)))\n",
    "            window.append(res)\n",
    "        sequences.append(window)\n",
    "        labels.append(label_map[action])\n",
    "\n",
    "X = np.array(sequences)\n",
    "y = to_categorical(labels).astype(int)"
   ]
  },
  {
   "cell_type": "markdown",
   "metadata": {},
   "source": [
    "Split Data"
   ]
  },
  {
   "cell_type": "code",
   "execution_count": 4,
   "metadata": {},
   "outputs": [
    {
     "name": "stdout",
     "output_type": "stream",
     "text": [
      "X shape: (210, 25, 225), y shape: (210, 7)\n",
      "X_train: (168, 25, 225), y_train: (168, 7)\n",
      "X_test: (11, 25, 225), y_test: (11, 7)\n",
      "X_val: (31, 25, 225), y_val: (31, 7)\n"
     ]
    }
   ],
   "source": [
    "# Step 1: separation 20% of data in val + test\n",
    "X_train, X_val_test, y_train, y_val_test = train_test_split(X, y, test_size=0.20, random_state=42)\n",
    "\n",
    "# Step 2: from that 20%, use 25% as test → 25% * 20% = 5%\n",
    "X_val, X_test, y_val, y_test = train_test_split(X_val_test, y_val_test, test_size=0.25, random_state=42)\n",
    "\n",
    "print(f\"X shape: {X.shape}, y shape: {y.shape}\")\n",
    "print(f\"X_train: {X_train.shape}, y_train: {y_train.shape}\")\n",
    "print(f\"X_test: {X_test.shape}, y_test: {y_test.shape}\")\n",
    "print(f\"X_val: {X_val.shape}, y_val: {y_val.shape}\")"
   ]
  },
  {
   "cell_type": "markdown",
   "metadata": {},
   "source": [
    "Augmentate Data"
   ]
  },
  {
   "cell_type": "code",
   "execution_count": 5,
   "metadata": {},
   "outputs": [
    {
     "name": "stdout",
     "output_type": "stream",
     "text": [
      "X_rotated: (168, 25, 225)\n",
      "X_squeezed: (168, 25, 225)\n",
      "X_arm_rotated: (168, 25, 225)\n",
      "AX_train shape: (336, 25, 225), AY_train shape: (336, 7)\n"
     ]
    }
   ],
   "source": [
    "n_example = X_train.shape[0]\n",
    "rot_angles = np.random.uniform(low=-MAX_ANGLE, high=MAX_ANGLE, size=n_example)\n",
    "rotated  = rotate_data(X_train, rot_angles)\n",
    "squeezed = squeeze_data(rotated, MAX_SQUEEZE)\n",
    "arm_rotated = sequential_arm_rotation(squeezed, MAX_ARM_ROTATION, ARM_ROTATION_PROB)\n",
    "\n",
    "print(f\"X_rotated: {rotated.shape}\")\n",
    "print(f\"X_squeezed: {squeezed.shape}\")\n",
    "print(f\"X_arm_rotated: {arm_rotated.shape}\")\n",
    "\n",
    "AX_train = np.concatenate((X_train, arm_rotated), axis=0)\n",
    "Ay_train = np.concatenate((y_train, y_train), axis=0)\n",
    "\n",
    "print(f\"AX_train shape: {AX_train.shape}, AY_train shape: {Ay_train.shape}\")"
   ]
  },
  {
   "cell_type": "markdown",
   "metadata": {},
   "source": [
    "Logs"
   ]
  },
  {
   "cell_type": "code",
   "execution_count": 6,
   "metadata": {},
   "outputs": [],
   "source": [
    "log_dir = os.path.join('Logs')\n",
    "tb_callback = TensorBoard(log_dir=log_dir)"
   ]
  },
  {
   "cell_type": "code",
   "execution_count": 7,
   "metadata": {},
   "outputs": [
    {
     "data": {
      "text/plain": [
       "1"
      ]
     },
     "execution_count": 7,
     "metadata": {},
     "output_type": "execute_result"
    }
   ],
   "source": [
    "np.random.randint(1, 2 + 1)\n",
    "\n"
   ]
  },
  {
   "cell_type": "markdown",
   "metadata": {},
   "source": [
    "# MODEL"
   ]
  },
  {
   "cell_type": "markdown",
   "metadata": {},
   "source": [
    "Def Model"
   ]
  },
  {
   "cell_type": "code",
   "execution_count": 8,
   "metadata": {},
   "outputs": [],
   "source": [
    "model = Sequential()\n",
    "model.add(Input(shape=(X.shape[1:])))\n",
    "model.add(LSTM(64, return_sequences=True))\n",
    "model.add(LSTM(128, return_sequences=True))\n",
    "model.add(LSTM(64, return_sequences=False))\n",
    "model.add(Dropout(0.2)) \n",
    "model.add(Dense(64, activation='relu'))\n",
    "model.add(Dense(32, activation='relu'))\n",
    "model.add(Dense(len(actions), activation='softmax'))"
   ]
  },
  {
   "cell_type": "markdown",
   "metadata": {},
   "source": [
    "Compile Model"
   ]
  },
  {
   "cell_type": "code",
   "execution_count": 9,
   "metadata": {},
   "outputs": [],
   "source": [
    "optimizer = Adam(learning_rate=0.0001)\n",
    "early_stop = EarlyStopping(\n",
    "    monitor='val_loss',        # o 'val_categorical_accuracy'\n",
    "    patience=8,                # numero di epoche senza miglioramento prima di fermarsi\n",
    "    restore_best_weights=True # ripristina i pesi migliori\n",
    ")\n",
    "\n",
    "model.compile(optimizer=optimizer, loss='categorical_crossentropy', metrics=['categorical_accuracy'])"
   ]
  },
  {
   "cell_type": "markdown",
   "metadata": {},
   "source": [
    "Fit Model (Only When Re-Run the Model)"
   ]
  },
  {
   "cell_type": "code",
   "execution_count": 10,
   "metadata": {},
   "outputs": [
    {
     "name": "stdout",
     "output_type": "stream",
     "text": [
      "Epoch 1/500\n",
      "7/7 [==============================] - 8s 271ms/step - loss: 1.9405 - categorical_accuracy: 0.1637 - val_loss: 1.9221 - val_categorical_accuracy: 0.1935\n",
      "Epoch 2/500\n",
      "7/7 [==============================] - 0s 33ms/step - loss: 1.9207 - categorical_accuracy: 0.2440 - val_loss: 1.9054 - val_categorical_accuracy: 0.2903\n",
      "Epoch 3/500\n",
      "7/7 [==============================] - 0s 24ms/step - loss: 1.8984 - categorical_accuracy: 0.2887 - val_loss: 1.8802 - val_categorical_accuracy: 0.4516\n",
      "Epoch 4/500\n",
      "7/7 [==============================] - 0s 26ms/step - loss: 1.8725 - categorical_accuracy: 0.3244 - val_loss: 1.8512 - val_categorical_accuracy: 0.4839\n",
      "Epoch 5/500\n",
      "7/7 [==============================] - 0s 26ms/step - loss: 1.8356 - categorical_accuracy: 0.3810 - val_loss: 1.8144 - val_categorical_accuracy: 0.4194\n",
      "Epoch 6/500\n",
      "7/7 [==============================] - 0s 28ms/step - loss: 1.7876 - categorical_accuracy: 0.4167 - val_loss: 1.7668 - val_categorical_accuracy: 0.3871\n",
      "Epoch 7/500\n",
      "7/7 [==============================] - 0s 28ms/step - loss: 1.7355 - categorical_accuracy: 0.4345 - val_loss: 1.7041 - val_categorical_accuracy: 0.4839\n",
      "Epoch 8/500\n",
      "7/7 [==============================] - 0s 27ms/step - loss: 1.6684 - categorical_accuracy: 0.4792 - val_loss: 1.6336 - val_categorical_accuracy: 0.4839\n",
      "Epoch 9/500\n",
      "7/7 [==============================] - 0s 28ms/step - loss: 1.5905 - categorical_accuracy: 0.5208 - val_loss: 1.5564 - val_categorical_accuracy: 0.5161\n",
      "Epoch 10/500\n",
      "7/7 [==============================] - 0s 28ms/step - loss: 1.5147 - categorical_accuracy: 0.5208 - val_loss: 1.4874 - val_categorical_accuracy: 0.4839\n",
      "Epoch 11/500\n",
      "7/7 [==============================] - 0s 30ms/step - loss: 1.4155 - categorical_accuracy: 0.5357 - val_loss: 1.3932 - val_categorical_accuracy: 0.6774\n",
      "Epoch 12/500\n",
      "7/7 [==============================] - 0s 29ms/step - loss: 1.3324 - categorical_accuracy: 0.6488 - val_loss: 1.3249 - val_categorical_accuracy: 0.6774\n",
      "Epoch 13/500\n",
      "7/7 [==============================] - 0s 35ms/step - loss: 1.2433 - categorical_accuracy: 0.6756 - val_loss: 1.2442 - val_categorical_accuracy: 0.7419\n",
      "Epoch 14/500\n",
      "7/7 [==============================] - 0s 29ms/step - loss: 1.1510 - categorical_accuracy: 0.7232 - val_loss: 1.1439 - val_categorical_accuracy: 0.7742\n",
      "Epoch 15/500\n",
      "7/7 [==============================] - 0s 28ms/step - loss: 1.0651 - categorical_accuracy: 0.7619 - val_loss: 1.0690 - val_categorical_accuracy: 0.8065\n",
      "Epoch 16/500\n",
      "7/7 [==============================] - 0s 30ms/step - loss: 1.0021 - categorical_accuracy: 0.7619 - val_loss: 1.0153 - val_categorical_accuracy: 0.7419\n",
      "Epoch 17/500\n",
      "7/7 [==============================] - 0s 28ms/step - loss: 0.8928 - categorical_accuracy: 0.8155 - val_loss: 0.9351 - val_categorical_accuracy: 0.8387\n",
      "Epoch 18/500\n",
      "7/7 [==============================] - 0s 29ms/step - loss: 0.8100 - categorical_accuracy: 0.8155 - val_loss: 0.8958 - val_categorical_accuracy: 0.7742\n",
      "Epoch 19/500\n",
      "7/7 [==============================] - 0s 28ms/step - loss: 0.7297 - categorical_accuracy: 0.8125 - val_loss: 0.7950 - val_categorical_accuracy: 0.8387\n",
      "Epoch 20/500\n",
      "7/7 [==============================] - 0s 25ms/step - loss: 0.6693 - categorical_accuracy: 0.8601 - val_loss: 0.8145 - val_categorical_accuracy: 0.8387\n",
      "Epoch 21/500\n",
      "7/7 [==============================] - 0s 27ms/step - loss: 0.6109 - categorical_accuracy: 0.8571 - val_loss: 0.7037 - val_categorical_accuracy: 0.9032\n",
      "Epoch 22/500\n",
      "7/7 [==============================] - 0s 27ms/step - loss: 0.5412 - categorical_accuracy: 0.9018 - val_loss: 0.7294 - val_categorical_accuracy: 0.9032\n",
      "Epoch 23/500\n",
      "7/7 [==============================] - 0s 28ms/step - loss: 0.4982 - categorical_accuracy: 0.9167 - val_loss: 0.6858 - val_categorical_accuracy: 0.8710\n",
      "Epoch 24/500\n",
      "7/7 [==============================] - 0s 27ms/step - loss: 0.4465 - categorical_accuracy: 0.9286 - val_loss: 0.6024 - val_categorical_accuracy: 0.9032\n",
      "Epoch 25/500\n",
      "7/7 [==============================] - 0s 28ms/step - loss: 0.3874 - categorical_accuracy: 0.9435 - val_loss: 0.6250 - val_categorical_accuracy: 0.8710\n",
      "Epoch 26/500\n",
      "7/7 [==============================] - 0s 30ms/step - loss: 0.3465 - categorical_accuracy: 0.9554 - val_loss: 0.5759 - val_categorical_accuracy: 0.9032\n",
      "Epoch 27/500\n",
      "7/7 [==============================] - 0s 27ms/step - loss: 0.3138 - categorical_accuracy: 0.9494 - val_loss: 0.6880 - val_categorical_accuracy: 0.8710\n",
      "Epoch 28/500\n",
      "7/7 [==============================] - 0s 31ms/step - loss: 0.2760 - categorical_accuracy: 0.9583 - val_loss: 0.5592 - val_categorical_accuracy: 0.8387\n",
      "Epoch 29/500\n",
      "7/7 [==============================] - 0s 35ms/step - loss: 0.2558 - categorical_accuracy: 0.9702 - val_loss: 0.5337 - val_categorical_accuracy: 0.9032\n",
      "Epoch 30/500\n",
      "7/7 [==============================] - 0s 26ms/step - loss: 0.2441 - categorical_accuracy: 0.9702 - val_loss: 0.6771 - val_categorical_accuracy: 0.8710\n",
      "Epoch 31/500\n",
      "7/7 [==============================] - 0s 29ms/step - loss: 0.2022 - categorical_accuracy: 0.9851 - val_loss: 0.5041 - val_categorical_accuracy: 0.9032\n",
      "Epoch 32/500\n",
      "7/7 [==============================] - 0s 33ms/step - loss: 0.1926 - categorical_accuracy: 0.9762 - val_loss: 0.6404 - val_categorical_accuracy: 0.8710\n",
      "Epoch 33/500\n",
      "7/7 [==============================] - 0s 27ms/step - loss: 0.1586 - categorical_accuracy: 0.9851 - val_loss: 0.5591 - val_categorical_accuracy: 0.9032\n",
      "Epoch 34/500\n",
      "7/7 [==============================] - 0s 26ms/step - loss: 0.1570 - categorical_accuracy: 0.9881 - val_loss: 0.5377 - val_categorical_accuracy: 0.9032\n",
      "Epoch 35/500\n",
      "7/7 [==============================] - 0s 26ms/step - loss: 0.1294 - categorical_accuracy: 0.9970 - val_loss: 0.5270 - val_categorical_accuracy: 0.8710\n",
      "Epoch 36/500\n",
      "7/7 [==============================] - 0s 27ms/step - loss: 0.1212 - categorical_accuracy: 0.9911 - val_loss: 0.6098 - val_categorical_accuracy: 0.8387\n",
      "Epoch 37/500\n",
      "7/7 [==============================] - 0s 27ms/step - loss: 0.1067 - categorical_accuracy: 0.9970 - val_loss: 0.6125 - val_categorical_accuracy: 0.8710\n",
      "Epoch 38/500\n",
      "7/7 [==============================] - 0s 25ms/step - loss: 0.0914 - categorical_accuracy: 1.0000 - val_loss: 0.6003 - val_categorical_accuracy: 0.8710\n",
      "Epoch 39/500\n",
      "7/7 [==============================] - 0s 29ms/step - loss: 0.0858 - categorical_accuracy: 0.9940 - val_loss: 0.6855 - val_categorical_accuracy: 0.8387\n"
     ]
    }
   ],
   "source": [
    "history = model.fit(AX_train, Ay_train, epochs=500, batch_size=50, validation_data=(X_val, y_val), callbacks=[early_stop])"
   ]
  },
  {
   "cell_type": "markdown",
   "metadata": {},
   "source": [
    "Trainig graph"
   ]
  },
  {
   "cell_type": "code",
   "execution_count": 11,
   "metadata": {},
   "outputs": [
    {
     "data": {
      "image/png": "[encoded data removed]",
      "text/plain": [
       "<Figure size 640x480 with 1 Axes>"
      ]
     },
     "metadata": {},
     "output_type": "display_data"
    },
    {
     "data": {
      "image/png": "[encoded data removed]",
      "text/plain": [
       "<Figure size 640x480 with 1 Axes>"
      ]
     },
     "metadata": {},
     "output_type": "display_data"
    },
    {
     "name": "stdout",
     "output_type": "stream",
     "text": [
      "The best weights were obtained at the epoch 31 with val_loss = 0.5041\n"
     ]
    }
   ],
   "source": [
    "epochs = range(1, len(history.history['categorical_accuracy']) + 1)\n",
    "plt.plot(epochs,history.history['categorical_accuracy'], label='Training Accuracy')\n",
    "plt.plot(epochs,history.history['val_categorical_accuracy'], label='Validation Accuracy')\n",
    "plt.xlabel('Epoch')\n",
    "plt.ylabel('Accuracy')\n",
    "plt.legend()\n",
    "plt.grid(True)\n",
    "plt.show()\n",
    "\n",
    "plt.plot(epochs,history.history['loss'], label='Training Loss')\n",
    "plt.plot(epochs,history.history['val_loss'], label='Validation Loss')\n",
    "plt.xlabel('Epoch')\n",
    "plt.ylabel('Loss')\n",
    "plt.legend()\n",
    "plt.grid(True)\n",
    "plt.title('Loss')\n",
    "plt.show()\n",
    "\n",
    "\n",
    "val_losses = history.history['val_loss']\n",
    "best_epoch = np.argmin(val_losses)\n",
    "print(f\"The best weights were obtained at the epoch {best_epoch + 1} with val_loss = {val_losses[best_epoch]:.4f}\")"
   ]
  },
  {
   "cell_type": "markdown",
   "metadata": {},
   "source": [
    "Load Model"
   ]
  },
  {
   "cell_type": "code",
   "execution_count": 12,
   "metadata": {},
   "outputs": [],
   "source": [
    "# model = load_model('model/save_model.keras')"
   ]
  },
  {
   "cell_type": "markdown",
   "metadata": {},
   "source": [
    "Save Model"
   ]
  },
  {
   "cell_type": "code",
   "execution_count": 13,
   "metadata": {},
   "outputs": [],
   "source": [
    "model.save('model/save_model.keras')"
   ]
  },
  {
   "cell_type": "markdown",
   "metadata": {},
   "source": [
    "Sumary Model"
   ]
  },
  {
   "cell_type": "code",
   "execution_count": 14,
   "metadata": {},
   "outputs": [
    {
     "name": "stdout",
     "output_type": "stream",
     "text": [
      "Model: \"sequential\"\n",
      "_________________________________________________________________\n",
      " Layer (type)                Output Shape              Param #   \n",
      "=================================================================\n",
      " lstm (LSTM)                 (None, 25, 64)            74240     \n",
      "                                                                 \n",
      " lstm_1 (LSTM)               (None, 25, 128)           98816     \n",
      "                                                                 \n",
      " lstm_2 (LSTM)               (None, 64)                49408     \n",
      "                                                                 \n",
      " dropout (Dropout)           (None, 64)                0         \n",
      "                                                                 \n",
      " dense (Dense)               (None, 64)                4160      \n",
      "                                                                 \n",
      " dense_1 (Dense)             (None, 32)                2080      \n",
      "                                                                 \n",
      " dense_2 (Dense)             (None, 7)                 231       \n",
      "                                                                 \n",
      "=================================================================\n",
      "Total params: 228,935\n",
      "Trainable params: 228,935\n",
      "Non-trainable params: 0\n",
      "_________________________________________________________________\n"
     ]
    }
   ],
   "source": [
    "model.summary()"
   ]
  },
  {
   "cell_type": "markdown",
   "metadata": {},
   "source": [
    "# Evaluation"
   ]
  },
  {
   "cell_type": "code",
   "execution_count": 15,
   "metadata": {},
   "outputs": [],
   "source": [
    "from sklearn.metrics import multilabel_confusion_matrix, accuracy_score"
   ]
  },
  {
   "cell_type": "markdown",
   "metadata": {},
   "source": [
    "Test data"
   ]
  },
  {
   "cell_type": "code",
   "execution_count": 16,
   "metadata": {},
   "outputs": [
    {
     "name": "stdout",
     "output_type": "stream",
     "text": [
      "1/1 [==============================] - 1s 1s/step\n"
     ]
    }
   ],
   "source": [
    "yhat = model.predict(X_test)\n",
    "ytrue = np.argmax(y_test, axis=1).tolist()\n",
    "yhat = np.argmax(yhat, axis=1).tolist()"
   ]
  },
  {
   "cell_type": "markdown",
   "metadata": {},
   "source": [
    "Confusion Matrix"
   ]
  },
  {
   "cell_type": "code",
   "execution_count": 17,
   "metadata": {},
   "outputs": [
    {
     "data": {
      "text/plain": [
       "array([[[ 9,  0],\n",
       "        [ 0,  2]],\n",
       "\n",
       "       [[10,  0],\n",
       "        [ 0,  1]],\n",
       "\n",
       "       [[10,  0],\n",
       "        [ 1,  0]],\n",
       "\n",
       "       [[10,  0],\n",
       "        [ 0,  1]],\n",
       "\n",
       "       [[ 8,  0],\n",
       "        [ 0,  3]],\n",
       "\n",
       "       [[ 8,  1],\n",
       "        [ 0,  2]],\n",
       "\n",
       "       [[10,  0],\n",
       "        [ 0,  1]]], dtype=int64)"
      ]
     },
     "execution_count": 17,
     "metadata": {},
     "output_type": "execute_result"
    }
   ],
   "source": [
    "multilabel_confusion_matrix(ytrue, yhat)"
   ]
  },
  {
   "cell_type": "markdown",
   "metadata": {},
   "source": [
    "Accuracyt Score (1 is good, 0 bad)"
   ]
  },
  {
   "cell_type": "code",
   "execution_count": 18,
   "metadata": {},
   "outputs": [
    {
     "data": {
      "text/plain": [
       "0.9090909090909091"
      ]
     },
     "execution_count": 18,
     "metadata": {},
     "output_type": "execute_result"
    }
   ],
   "source": [
    "accuracy_score(ytrue, yhat)"
   ]
  }
 ],
 "metadata": {
  "kernelspec": {
   "display_name": ".venv",
   "language": "python",
   "name": "python3"
  },
  "language_info": {
   "codemirror_mode": {
    "name": "ipython",
    "version": 3
   },
   "file_extension": ".py",
   "mimetype": "text/x-python",
   "name": "python",
   "nbconvert_exporter": "python",
   "pygments_lexer": "ipython3",
   "version": "3.8.5"
  }
 },
 "nbformat": 4,
 "nbformat_minor": 2
}
